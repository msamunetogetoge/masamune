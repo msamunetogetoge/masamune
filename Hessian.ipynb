{
  "nbformat": 4,
  "nbformat_minor": 0,
  "metadata": {
    "kernelspec": {
      "display_name": "Python 3",
      "language": "python",
      "name": "python3"
    },
    "language_info": {
      "codemirror_mode": {
        "name": "ipython",
        "version": 3
      },
      "file_extension": ".py",
      "mimetype": "text/x-python",
      "name": "python",
      "nbconvert_exporter": "python",
      "pygments_lexer": "ipython3",
      "version": "3.7.1"
    },
    "colab": {
      "name": "Hessian.ipynb ",
      "provenance": [],
      "collapsed_sections": [],
      "include_colab_link": true
    }
  },
  "cells": [
    {
      "cell_type": "markdown",
      "metadata": {
        "id": "view-in-github",
        "colab_type": "text"
      },
      "source": [
        "<a href=\"https://colab.research.google.com/github/msamunetogetoge/masamune/blob/master/Hessian.ipynb\" target=\"_parent\"><img src=\"https://colab.research.google.com/assets/colab-badge.svg\" alt=\"Open In Colab\"/></a>"
      ]
    },
    {
      "cell_type": "markdown",
      "metadata": {
        "id": "_DrQWXK2GmUd",
        "colab_type": "text"
      },
      "source": [
        "# 簡単なニューラルネットの作成"
      ]
    },
    {
      "cell_type": "code",
      "metadata": {
        "colab_type": "code",
        "id": "PBV4SAJprw6q",
        "colab": {}
      },
      "source": [
        "import numpy as np\n",
        "from collections import OrderedDict\n",
        "import matplotlib.pyplot as plt \n",
        "import pandas as pd\n",
        "np.random.seed(0)"
      ],
      "execution_count": 0,
      "outputs": []
    },
    {
      "cell_type": "code",
      "metadata": {
        "colab_type": "code",
        "id": "DBNDbH1Krw67",
        "colab": {}
      },
      "source": [
        "from scipy.special import expit as sigmoid\n",
        "class Sigmoid:\n",
        "    def forward(self,x):\n",
        "        sig = sigmoid(x)\n",
        "        return sig"
      ],
      "execution_count": 0,
      "outputs": []
    },
    {
      "cell_type": "code",
      "metadata": {
        "colab_type": "code",
        "id": "f6zI1y4Qrw7K",
        "colab": {}
      },
      "source": [
        "class Affine:\n",
        "    def __init__(self, W, b):\n",
        "        self.W =W\n",
        "        self.b = b     \n",
        "        self.x = None\n",
        "        self.original_x_shape = None\n",
        "\n",
        "    def forward(self, x):\n",
        "        # テンソル対応\n",
        "        self.original_x_shape = x.shape\n",
        "        x = x.reshape(x.shape[0], -1)\n",
        "        self.x = x\n",
        "        out = np.dot(self.x, self.W) + self.b\n",
        "\n",
        "        return out"
      ],
      "execution_count": 0,
      "outputs": []
    },
    {
      "cell_type": "code",
      "metadata": {
        "id": "yU6FUm-xe-HV",
        "colab_type": "code",
        "colab": {}
      },
      "source": [
        "def numerical_gradient(f, x):\n",
        "    h = 1e-4 \n",
        "    grad = np.zeros_like(x)\n",
        "    \n",
        "    it = np.nditer(x, flags=['multi_index'], op_flags=['readwrite'])\n",
        "    while not it.finished:\n",
        "        idx = it.multi_index\n",
        "        tmp_val = x[idx]\n",
        "        x[idx] = float(tmp_val) + h\n",
        "        fxh1 = f(x) # f(x+h)\n",
        "        \n",
        "        x[idx] = tmp_val - h \n",
        "        fxh2 = f(x) # f(x-h)\n",
        "        grad[idx] = (fxh1 - fxh2) / (2*h)\n",
        "        \n",
        "        x[idx] = tmp_val # 値を元に戻す\n",
        "        it.iternext()   \n",
        "        \n",
        "    return grad"
      ],
      "execution_count": 0,
      "outputs": []
    },
    {
      "cell_type": "code",
      "metadata": {
        "colab_type": "code",
        "id": "7NamaoaXMiG5",
        "colab": {}
      },
      "source": [
        "def MSE(y,pred):\n",
        "    N=len(y)\n",
        "    mse = np.sum( ( y- pred )**2)/N\n",
        "    return mse\n",
        "    "
      ],
      "execution_count": 0,
      "outputs": []
    },
    {
      "cell_type": "code",
      "metadata": {
        "colab_type": "code",
        "id": "ERSC6slGFE2B",
        "colab": {}
      },
      "source": [
        "#隠れ層1つのニューラルネットワーク\n",
        "#ヘッシアンの計算は別の関数でする\n",
        "class SimpleNet:\n",
        "    def __init__(self, input_size,hidden_size, output_size=1):\n",
        "        self.params = {}\n",
        "        self.params['W1'] = np.random.randn(input_size, hidden_size,)\n",
        "        self.params['b1'] = np.zeros(hidden_size)\n",
        "        self.params['W2'] = np.random.randn(hidden_size,output_size)\n",
        "        self.params['b2'] = np.zeros(output_size)   \n",
        "        self.layers = OrderedDict()\n",
        "        self.layers['Affine1'] = Affine(self.params['W1'], self.params['b1'])\n",
        "        self.layers['Acrivation'] = Sigmoid()\n",
        "        self.layers[\"Affine2\"] = Affine(self.params['W2'], self.params['b2'])\n",
        "        self.grads={}\n",
        "        self.hessian={}\n",
        "        \n",
        "\n",
        "    def predict(self,x):\n",
        "        for L in self.layers.values():\n",
        "            x=L.forward(x)\n",
        "        return x\n",
        "\n",
        "    def grad(self, x,y):\n",
        "        func=lambda W: self.loss(x,y)\n",
        "        for W in self.params.keys():\n",
        "            shape=self.params[W].shape\n",
        "            self.grads[W]=numerical_gradient(func,self.params[W]).reshape(shape)\n",
        "        return self.grads         \n",
        "\n",
        "    def loss(self,x,y):\n",
        "        pred = self.predict(x)\n",
        "        L =- MSE(y,pred)\n",
        "        \n",
        "        return L  \n",
        "    def update_layers(self):\n",
        "        self.layers = OrderedDict()\n",
        "        self.layers['Affine1'] = Affine(self.params['W1'], self.params['b1'])\n",
        "        self.layers['Acrivation'] = Sigmoid()\n",
        "        self.layers[\"Affine2\"] = Affine(self.params['W2'], self.params['b2'])       \n",
        "\n",
        "\n",
        "    def learning(self,x,y,lr,itr):\n",
        "        self.update_layers()\n",
        "        self.loss_values = []\n",
        "        for i in range(itr):\n",
        "            for key in self.params.keys():\n",
        "                self.params[key] += lr * self.grad(x,y)[key]\n",
        "            self.loss_values.append(self.loss(x,y))\n",
        "        return self.loss_values"
      ],
      "execution_count": 0,
      "outputs": []
    },
    {
      "cell_type": "code",
      "metadata": {
        "id": "wHJwCB4xXxb4",
        "colab_type": "code",
        "colab": {}
      },
      "source": [
        "NN=SimpleNet(input_size=3,hidden_size=5,output_size=1)"
      ],
      "execution_count": 0,
      "outputs": []
    },
    {
      "cell_type": "markdown",
      "metadata": {
        "id": "wbwRU3fFHdKk",
        "colab_type": "text"
      },
      "source": [
        "y=sin x でニューラルネットワークが上手く動くか確認"
      ]
    },
    {
      "cell_type": "code",
      "metadata": {
        "colab_type": "code",
        "id": "ZzdEgXtfrw7u",
        "colab": {}
      },
      "source": [
        "df=pd.DataFrame()\n",
        "df[\"x\"]=np.linspace(0,3,num=1000)\n",
        "df[\"x^2\"]=df.x**2\n",
        "df[\"x^3\"]=df.x**3\n",
        "df[\"sin\"]= np.sin(df.x)"
      ],
      "execution_count": 0,
      "outputs": []
    },
    {
      "cell_type": "code",
      "metadata": {
        "colab_type": "code",
        "id": "r8EXCJwtrw76",
        "colab": {}
      },
      "source": [
        "X=np.array(df[[\"x\",\"x^2\",\"x^3\"]]).reshape(-1,3)\n",
        "y=np.array(df.sin).reshape(-1,1)"
      ],
      "execution_count": 0,
      "outputs": []
    },
    {
      "cell_type": "code",
      "metadata": {
        "id": "8Jp_DmyBeh-4",
        "colab_type": "code",
        "outputId": "dd58f9fb-93c7-4768-bff1-65d990d64101",
        "colab": {
          "base_uri": "https://localhost:8080/",
          "height": 282
        }
      },
      "source": [
        "losses=NN.learning(X,y,0.05,100)\n",
        "plt.plot(losses)"
      ],
      "execution_count": 19,
      "outputs": [
        {
          "output_type": "execute_result",
          "data": {
            "text/plain": [
              "[<matplotlib.lines.Line2D at 0x7f22f78c0320>]"
            ]
          },
          "metadata": {
            "tags": []
          },
          "execution_count": 19
        },
        {
          "output_type": "display_data",
          "data": {
            "image/png": "[encoded data removed]",
            "text/plain": [
              "<Figure size 432x288 with 1 Axes>"
            ]
          },
          "metadata": {
            "tags": [],
            "needs_background": "light"
          }
        }
      ]
    },
    {
      "cell_type": "markdown",
      "metadata": {
        "id": "jAPGI39CHlmW",
        "colab_type": "text"
      },
      "source": [
        "# ヘッシアンの計算"
      ]
    },
    {
      "cell_type": "markdown",
      "metadata": {
        "id": "lX8cge3HH49X",
        "colab_type": "text"
      },
      "source": [
        "ヘッシアンを同じ変数での2回微分と、別々の変数での微分のブロックに分けて計算する"
      ]
    },
    {
      "cell_type": "code",
      "metadata": {
        "id": "EsNxyNUNmmP6",
        "colab_type": "code",
        "colab": {}
      },
      "source": [
        "import copy\n",
        "import itertools\n",
        "def Hessian(NN):\n",
        "    keys = NN.params.keys()\n",
        "    h=1e-8\n",
        "    #2種類の変数による微分\n",
        "    for params in itertools.combinations(keys, 2):\n",
        "        name = \"\".join(params)\n",
        "        NN.hessian[name]=np.array([])\n",
        "        Hess=np.array([])\n",
        "        shape= NN.params[params[0]].shape\n",
        "        N=np.prod(shape)\n",
        "        M=np.prod(NN.params[params[1]].shape)\n",
        "        for i in range(N):\n",
        "            NN_1=copy.deepcopy(NN)\n",
        "            params_0= NN_1.params[params[0]]\n",
        "            params_0=params_0.reshape(-1,1)\n",
        "            params_0[i]-=h\n",
        "            params_0=params_0.reshape(shape)\n",
        "            NN_1.update_layers()\n",
        "            H=(NN.grad(X,y)[params[1]] - NN_1.grad(X,y)[params[1]] )/h\n",
        "            Hess= np.append(Hess,H)\n",
        "        Hess=Hess.reshape(N,M)\n",
        "        NN.hessian[name]=Hess\n",
        "    #同じ変数による微分    \n",
        "    for param in keys:\n",
        "        name = param + param\n",
        "        NN.hessian[name]=np.array([])\n",
        "        Hess=np.array([])\n",
        "        shape= NN.params[param].shape\n",
        "        N=np.prod(shape)\n",
        "        for i in range(N):\n",
        "            NN_1=copy.deepcopy(NN)\n",
        "            W= NN_1.params[param]\n",
        "            W=W.reshape(-1,1)\n",
        "            W[i]-=h\n",
        "            W=W.reshape(shape)\n",
        "            NN_1.update_layers()\n",
        "            H=(NN.grad(X,y)[param] - NN_1.grad(X,y)[param] )/h\n",
        "            Hess= np.append(Hess,H)\n",
        "        Hess=Hess.reshape(N,N)\n",
        "        NN.hessian[name]=Hess\n",
        "    print(\"Calculated Hessian\")\n",
        "   "
      ],
      "execution_count": 0,
      "outputs": []
    },
    {
      "cell_type": "code",
      "metadata": {
        "id": "K9bAUoGHJoMf",
        "colab_type": "code",
        "colab": {
          "base_uri": "https://localhost:8080/",
          "height": 34
        },
        "outputId": "fd358012-a4d3-46ba-d4b5-7c15e5cfacaa"
      },
      "source": [
        "Hessian(NN)"
      ],
      "execution_count": 33,
      "outputs": [
        {
          "output_type": "stream",
          "text": [
            "Calculated Hessian\n"
          ],
          "name": "stdout"
        }
      ]
    },
    {
      "cell_type": "markdown",
      "metadata": {
        "id": "NlrrVcLEIIcY",
        "colab_type": "text"
      },
      "source": [
        "気合でブロックを一つの行列にする"
      ]
    },
    {
      "cell_type": "code",
      "metadata": {
        "id": "tceCKdyA98gk",
        "colab_type": "code",
        "colab": {}
      },
      "source": [
        "H=np.block(\n",
        "[[NN.hessian[\"W1W1\"],NN.hessian[\"W1b1\"],NN.hessian[\"W1W2\"],NN.hessian[\"W1b2\"]  ],\n",
        "[ NN.hessian[\"W1b1\"].T,NN.hessian[\"b1b1\"],NN.hessian[\"b1W2\"],NN.hessian[\"b1b2\"]  ],\n",
        "[NN.hessian[\"W1W2\"].T,NN.hessian[\"b1W2\"].T,NN.hessian[\"W2W2\"],NN.hessian[\"W2b2\"] ],\n",
        "[NN.hessian[\"W1b2\"].T,NN.hessian[\"b1b2\"].T,NN.hessian[\"W2b2\"].T,NN.hessian[\"b2b2\"] ]\n",
        "])"
      ],
      "execution_count": 0,
      "outputs": []
    },
    {
      "cell_type": "code",
      "metadata": {
        "id": "jjvFOGJyrTl0",
        "colab_type": "code",
        "outputId": "816b2956-c9de-4cd7-be0c-a5e3ec62be24",
        "colab": {
          "base_uri": "https://localhost:8080/",
          "height": 105
        }
      },
      "source": [
        "H[:5,:5]"
      ],
      "execution_count": 35,
      "outputs": [
        {
          "output_type": "execute_result",
          "data": {
            "text/plain": [
              "array([[-0.06158268, -0.00579224,  0.0017937 , -0.00204003,  0.00312944],\n",
              "       [-0.00578877, -0.01451096,  0.00250321, -0.00235749,  0.00623286],\n",
              "       [ 0.0017937 ,  0.00250321,  0.00023766,  0.00051174, -0.00118655],\n",
              "       [-0.00204003, -0.00235922,  0.00050654, -0.0017434 ,  0.00112237],\n",
              "       [ 0.00312597,  0.00623113, -0.00118482,  0.00112757, -0.0020782 ]])"
            ]
          },
          "metadata": {
            "tags": []
          },
          "execution_count": 35
        }
      ]
    },
    {
      "cell_type": "markdown",
      "metadata": {
        "id": "8J83kDTzISee",
        "colab_type": "text"
      },
      "source": [
        "対称行列になってるっぽいので計算出来てる。\n",
        "差分の取り方を中央差分にしたり、1階微分の精度を上げれば、もっと精度よく対称行列になる。\n",
        "ヘッシアンはニュートン法とか、ラプラス近似で使う。"
      ]
    },
    {
      "cell_type": "code",
      "metadata": {
        "id": "LU4IvvWmKOjZ",
        "colab_type": "code",
        "colab": {}
      },
      "source": [
        ""
      ],
      "execution_count": 0,
      "outputs": []
    }
  ]
}