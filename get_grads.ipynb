{
  "nbformat": 4,
  "nbformat_minor": 0,
  "metadata": {
    "colab": {
      "name": "get_grads.ipynb",
      "provenance": [],
      "collapsed_sections": [],
      "include_colab_link": true
    },
    "kernelspec": {
      "name": "python3",
      "display_name": "Python 3"
    },
    "accelerator": "GPU"
  },
  "cells": [
    {
      "cell_type": "markdown",
      "metadata": {
        "id": "view-in-github",
        "colab_type": "text"
      },
      "source": [
        "<a href=\"https://colab.research.google.com/github/msamunetogetoge/masamune/blob/master/get_grads.ipynb\" target=\"_parent\"><img src=\"https://colab.research.google.com/assets/colab-badge.svg\" alt=\"Open In Colab\"/></a>"
      ]
    },
    {
      "cell_type": "markdown",
      "metadata": {
        "id": "-PqfFKvojtQO",
        "colab_type": "text"
      },
      "source": [
        "# Tensorflowの読み込みとMNISTの読み込み"
      ]
    },
    {
      "cell_type": "markdown",
      "metadata": {
        "id": "Ju0bDFOqKZEe",
        "colab_type": "text"
      },
      "source": [
        "自分のドライブに何かを保存したい時は、初めにdrive.mountする必要があります。必要ない人や、colab を使ってない人は、次のセルを飛ばしてください。"
      ]
    },
    {
      "cell_type": "code",
      "metadata": {
        "id": "yMPObn5PKXCx",
        "colab_type": "code",
        "colab": {}
      },
      "source": [
        "from google.colab import drive\n",
        "drive.mount('/content/drive')"
      ],
      "execution_count": 0,
      "outputs": []
    },
    {
      "cell_type": "code",
      "metadata": {
        "id": "749Ax5fMk6dn",
        "colab_type": "code",
        "colab": {
          "base_uri": "https://localhost:8080/",
          "height": 63
        },
        "outputId": "fd3426c3-e10c-4887-d2df-9c3e06a0895f"
      },
      "source": [
        "import tensorflow as tf\n",
        "from tensorflow import keras\n",
        "import numpy as np\n",
        "import matplotlib.pyplot as plt"
      ],
      "execution_count": 1,
      "outputs": [
        {
          "output_type": "display_data",
          "data": {
            "text/html": [
              "<p style=\"color: red;\">\n",
              "The default version of TensorFlow in Colab will soon switch to TensorFlow 2.x.<br>\n",
              "We recommend you <a href=\"https://www.tensorflow.org/guide/migrate\" target=\"_blank\">upgrade</a> now \n",
              "or ensure your notebook will continue to use TensorFlow 1.x via the <code>%tensorflow_version 1.x</code> magic:\n",
              "<a href=\"https://colab.research.google.com/notebooks/tensorflow_version.ipynb\" target=\"_blank\">more info</a>.</p>\n"
            ],
            "text/plain": [
              "<IPython.core.display.HTML object>"
            ]
          },
          "metadata": {
            "tags": []
          }
        }
      ]
    },
    {
      "cell_type": "markdown",
      "metadata": {
        "id": "wJSja6hHkcYH",
        "colab_type": "text"
      },
      "source": [
        "keras にMNISTが入っているので、読み込みます。データの並び順は、\n",
        "(トレーニング画像,トレーニングラベル), (テスト画像,テストラベル)です。\n",
        "\n",
        "\n"
      ]
    },
    {
      "cell_type": "code",
      "metadata": {
        "id": "NGMI8jvgkQ_W",
        "colab_type": "code",
        "colab": {
          "base_uri": "https://localhost:8080/",
          "height": 34
        },
        "outputId": "b8eea2bf-cebc-4f2b-e909-379d3b55c5b8"
      },
      "source": [
        "mnist = keras.datasets.mnist\n",
        "(train_images, train_labels), (test_images, test_labels) = mnist.load_data()\n",
        "print(\"それぞれのサイズは、トレーニングデータ={}, テストデータ={}, ラベルの形は{}\".format(train_images.shape , test_images.shape, train_labels.shape))"
      ],
      "execution_count": 11,
      "outputs": [
        {
          "output_type": "stream",
          "text": [
            "それぞれのサイズは、トレーニングデータ=(60000, 28, 28), テストデータ=(10000, 28, 28), ラベルの形は(60000,)\n"
          ],
          "name": "stdout"
        }
      ]
    },
    {
      "cell_type": "markdown",
      "metadata": {
        "id": "7ZGJ0NENk72V",
        "colab_type": "text"
      },
      "source": [
        "トレーニングでは28×28の画像60000枚、テストでは10000枚の画像が用意されています。\n",
        "実務でもこのくらいの量の良質なデータが欲しいものです。ラベルはone-hot-encodingされていないようです。必要なら別途しておきましょう。画像を表示してみます。"
      ]
    },
    {
      "cell_type": "code",
      "metadata": {
        "id": "kScF-Y7Zk38V",
        "colab_type": "code",
        "colab": {
          "base_uri": "https://localhost:8080/",
          "height": 298
        },
        "outputId": "f14b9b67-164c-455f-f0a9-a20f381f6cb2"
      },
      "source": [
        "img = train_images[0]\n",
        "plt.imshow(img)\n",
        "plt.title(train_labels[0])"
      ],
      "execution_count": 12,
      "outputs": [
        {
          "output_type": "execute_result",
          "data": {
            "text/plain": [
              "Text(0.5, 1.0, '5')"
            ]
          },
          "metadata": {
            "tags": []
          },
          "execution_count": 12
        },
        {
          "output_type": "display_data",
          "data": {
            "image/png": "[encoded data removed]",
            "text/plain": [
              "<Figure size 432x288 with 1 Axes>"
            ]
          },
          "metadata": {
            "tags": []
          }
        }
      ]
    },
    {
      "cell_type": "markdown",
      "metadata": {
        "id": "Wd2UOWgqmvCk",
        "colab_type": "text"
      },
      "source": [
        "トレーニングの1枚目は5でした。画像の中身を一応見ておきます。"
      ]
    },
    {
      "cell_type": "code",
      "metadata": {
        "id": "RwzMXxGamzgK",
        "colab_type": "code",
        "colab": {
          "base_uri": "https://localhost:8080/",
          "height": 70
        },
        "outputId": "204c5184-0ec0-442e-a5ce-f237584b436b"
      },
      "source": [
        "img[:,20]"
      ],
      "execution_count": 17,
      "outputs": [
        {
          "output_type": "execute_result",
          "data": {
            "text/plain": [
              "array([  0,   0,   0,   0,   0, 166, 253,  82,   0,   0,   0,   0,   0,\n",
              "         0,   0,   0,   0,  64,   2,   0,   0,   0,   0,   0,   0,   0,\n",
              "         0,   0], dtype=uint8)"
            ]
          },
          "metadata": {
            "tags": []
          },
          "execution_count": 17
        }
      ]
    },
    {
      "cell_type": "markdown",
      "metadata": {
        "id": "Soov2By5lM51",
        "colab_type": "text"
      },
      "source": [
        "次に、画像の前処理を行います。0から255までの整数値を取っているので、255で割って、0から1の間に押し込めます。"
      ]
    },
    {
      "cell_type": "code",
      "metadata": {
        "id": "dmscb04Fljbl",
        "colab_type": "code",
        "colab": {}
      },
      "source": [
        "train_images = train_images / 255.0\n",
        "test_images = test_images / 255.0"
      ],
      "execution_count": 0,
      "outputs": []
    },
    {
      "cell_type": "markdown",
      "metadata": {
        "id": "0JJlZ2L5tFH_",
        "colab_type": "text"
      },
      "source": [
        "# モデルの作成と評価"
      ]
    },
    {
      "cell_type": "markdown",
      "metadata": {
        "id": "EfXxwudKnPm_",
        "colab_type": "text"
      },
      "source": [
        "簡単なモデルを作りましょう。keras のSequential は枝分かれの無いモデルを簡単に作る事が出来ます。計算を早く終わらせる為に、畳み込みは使いません。"
      ]
    },
    {
      "cell_type": "code",
      "metadata": {
        "id": "4pZfo7Xml8zI",
        "colab_type": "code",
        "outputId": "e219a403-a0bf-426b-8851-17527fe5ccf8",
        "colab": {
          "base_uri": "https://localhost:8080/",
          "height": 90
        }
      },
      "source": [
        "model = keras.Sequential([\n",
        "    keras.layers.Flatten(input_shape=(28, 28)),\n",
        "    keras.layers.Dense(128, activation='relu'),\n",
        "    keras.layers.Dense(10, activation='softmax')\n",
        "])"
      ],
      "execution_count": 19,
      "outputs": [
        {
          "output_type": "stream",
          "text": [
            "WARNING:tensorflow:From /usr/local/lib/python3.6/dist-packages/tensorflow_core/python/ops/resource_variable_ops.py:1630: calling BaseResourceVariable.__init__ (from tensorflow.python.ops.resource_variable_ops) with constraint is deprecated and will be removed in a future version.\n",
            "Instructions for updating:\n",
            "If using Keras pass *_constraint arguments to layers.\n"
          ],
          "name": "stdout"
        }
      ]
    },
    {
      "cell_type": "markdown",
      "metadata": {
        "id": "BYDSyfDyni9U",
        "colab_type": "text"
      },
      "source": [
        "簡単に解説を書いておきます。\n",
        "Sequential([layer1,layer2, … ])と書きます。\n",
        "Flatten は、(データの個数, 配列) というデータを受け取って、(データの個数, i次元配列)を返してくれる層です。\n",
        "Dense は全結合層です。Dense(node, オプション)の形で書きます。個別にbias の初期値を決めたりできます。activation=hoge と書く事で、活性化関数をして出来ます。\n",
        "今回は入力と出力含めて3層からなる簡単なニューラルネットワークです。\n",
        "モデルで訓練するべきパラメーターの数や、層についている名前を見る機能があります。"
      ]
    },
    {
      "cell_type": "code",
      "metadata": {
        "id": "PXNEwFexospu",
        "colab_type": "code",
        "colab": {
          "base_uri": "https://localhost:8080/",
          "height": 265
        },
        "outputId": "0cbb4925-1671-4eba-b72c-a3bf60397b81"
      },
      "source": [
        "model.summary()"
      ],
      "execution_count": 20,
      "outputs": [
        {
          "output_type": "stream",
          "text": [
            "Model: \"sequential\"\n",
            "_________________________________________________________________\n",
            "Layer (type)                 Output Shape              Param #   \n",
            "=================================================================\n",
            "flatten (Flatten)            (None, 784)               0         \n",
            "_________________________________________________________________\n",
            "dense (Dense)                (None, 128)               100480    \n",
            "_________________________________________________________________\n",
            "dense_1 (Dense)              (None, 10)                1290      \n",
            "=================================================================\n",
            "Total params: 101,770\n",
            "Trainable params: 101,770\n",
            "Non-trainable params: 0\n",
            "_________________________________________________________________\n"
          ],
          "name": "stdout"
        }
      ]
    },
    {
      "cell_type": "markdown",
      "metadata": {
        "id": "_GvfKnxdo0P-",
        "colab_type": "text"
      },
      "source": [
        "モデルを作ったらmodel.compileします。ここでオプティマイザーや損失関数を決めます。また、metrics で、ログに残しておきたい評価値を指定できます。\"accuracy\" とか\"mean_squared_error\" の事です。略称の\"acc\"とか、\"mse\"とかでも指定できます。今回はオプティマイザーはadam, 損失関数はスパースクロスエントロピーです。"
      ]
    },
    {
      "cell_type": "code",
      "metadata": {
        "id": "Aw83Ma4ZmFwB",
        "colab_type": "code",
        "colab": {}
      },
      "source": [
        "model.compile(optimizer='adam', \n",
        "              loss='sparse_categorical_crossentropy',\n",
        "              metrics=['acc'])"
      ],
      "execution_count": 0,
      "outputs": []
    },
    {
      "cell_type": "markdown",
      "metadata": {
        "id": "PyHU8WYYqY-j",
        "colab_type": "text"
      },
      "source": [
        "次に、モデルのトレーニングをします。トレーニングは.fit(training_data, training_label, validation_data)で行います。ここで、バッチサイズやエポック数を指定します。学習が上手くいかない時に自動で切り上げたりする、callback もここで指定します。"
      ]
    },
    {
      "cell_type": "code",
      "metadata": {
        "id": "o2kzRtl_qX6J",
        "colab_type": "code",
        "colab": {
          "base_uri": "https://localhost:8080/",
          "height": 212
        },
        "outputId": "ef7adc06-8ea6-4d0e-97a9-50a98c4eaa56"
      },
      "source": [
        "h=model.fit(train_images, train_labels,\n",
        "            validation_data=(test_images, test_labels),batch_size=20,\n",
        "            epochs=5)"
      ],
      "execution_count": 26,
      "outputs": [
        {
          "output_type": "stream",
          "text": [
            "Train on 60000 samples, validate on 10000 samples\n",
            "Epoch 1/5\n",
            "60000/60000 [==============================] - 11s 176us/sample - loss: 0.2418 - acc: 0.9302 - val_loss: 0.1319 - val_acc: 0.9601\n",
            "Epoch 2/5\n",
            "60000/60000 [==============================] - 9s 154us/sample - loss: 0.1059 - acc: 0.9678 - val_loss: 0.0926 - val_acc: 0.9712\n",
            "Epoch 3/5\n",
            "60000/60000 [==============================] - 9s 154us/sample - loss: 0.0720 - acc: 0.9779 - val_loss: 0.0885 - val_acc: 0.9730\n",
            "Epoch 4/5\n",
            "60000/60000 [==============================] - 9s 156us/sample - loss: 0.0533 - acc: 0.9832 - val_loss: 0.0775 - val_acc: 0.9753\n",
            "Epoch 5/5\n",
            "60000/60000 [==============================] - 9s 154us/sample - loss: 0.0417 - acc: 0.9870 - val_loss: 0.0785 - val_acc: 0.9764\n"
          ],
          "name": "stdout"
        }
      ]
    },
    {
      "cell_type": "markdown",
      "metadata": {
        "id": "Ls4iLZw0rc0H",
        "colab_type": "text"
      },
      "source": [
        "h の中に、history と言う名前で色々な情報が格納されています。"
      ]
    },
    {
      "cell_type": "code",
      "metadata": {
        "id": "XWeAxK7PmHxy",
        "colab_type": "code",
        "outputId": "d496eae2-0d9b-4c5e-e7b2-c971264dc862",
        "colab": {
          "base_uri": "https://localhost:8080/",
          "height": 197
        }
      },
      "source": [
        "import pandas as pd\n",
        "history=pd.DataFrame(h.history)\n",
        "history.head()"
      ],
      "execution_count": 28,
      "outputs": [
        {
          "output_type": "execute_result",
          "data": {
            "text/html": [
              "<div>\n",
              "<style scoped>\n",
              "    .dataframe tbody tr th:only-of-type {\n",
              "        vertical-align: middle;\n",
              "    }\n",
              "\n",
              "    .dataframe tbody tr th {\n",
              "        vertical-align: top;\n",
              "    }\n",
              "\n",
              "    .dataframe thead th {\n",
              "        text-align: right;\n",
              "    }\n",
              "</style>\n",
              "<table border=\"1\" class=\"dataframe\">\n",
              "  <thead>\n",
              "    <tr style=\"text-align: right;\">\n",
              "      <th></th>\n",
              "      <th>loss</th>\n",
              "      <th>acc</th>\n",
              "      <th>val_loss</th>\n",
              "      <th>val_acc</th>\n",
              "    </tr>\n",
              "  </thead>\n",
              "  <tbody>\n",
              "    <tr>\n",
              "      <th>0</th>\n",
              "      <td>0.241795</td>\n",
              "      <td>0.930233</td>\n",
              "      <td>0.131928</td>\n",
              "      <td>0.9601</td>\n",
              "    </tr>\n",
              "    <tr>\n",
              "      <th>1</th>\n",
              "      <td>0.105884</td>\n",
              "      <td>0.967750</td>\n",
              "      <td>0.092552</td>\n",
              "      <td>0.9712</td>\n",
              "    </tr>\n",
              "    <tr>\n",
              "      <th>2</th>\n",
              "      <td>0.071951</td>\n",
              "      <td>0.977867</td>\n",
              "      <td>0.088514</td>\n",
              "      <td>0.9730</td>\n",
              "    </tr>\n",
              "    <tr>\n",
              "      <th>3</th>\n",
              "      <td>0.053290</td>\n",
              "      <td>0.983217</td>\n",
              "      <td>0.077534</td>\n",
              "      <td>0.9753</td>\n",
              "    </tr>\n",
              "    <tr>\n",
              "      <th>4</th>\n",
              "      <td>0.041675</td>\n",
              "      <td>0.986983</td>\n",
              "      <td>0.078500</td>\n",
              "      <td>0.9764</td>\n",
              "    </tr>\n",
              "  </tbody>\n",
              "</table>\n",
              "</div>"
            ],
            "text/plain": [
              "       loss       acc  val_loss  val_acc\n",
              "0  0.241795  0.930233  0.131928   0.9601\n",
              "1  0.105884  0.967750  0.092552   0.9712\n",
              "2  0.071951  0.977867  0.088514   0.9730\n",
              "3  0.053290  0.983217  0.077534   0.9753\n",
              "4  0.041675  0.986983  0.078500   0.9764"
            ]
          },
          "metadata": {
            "tags": []
          },
          "execution_count": 28
        }
      ]
    },
    {
      "cell_type": "markdown",
      "metadata": {
        "id": "wUEvX1kjr7Z8",
        "colab_type": "text"
      },
      "source": [
        "historyの中身をグラフに描いてモデルを評価することが多いと思います。"
      ]
    },
    {
      "cell_type": "code",
      "metadata": {
        "id": "G1Q365RvsHgr",
        "colab_type": "code",
        "colab": {
          "base_uri": "https://localhost:8080/",
          "height": 304
        },
        "outputId": "28094568-d783-46fb-af88-40fcd726708b"
      },
      "source": [
        "import seaborn as sns\n",
        "sns.set()\n",
        "sns.lineplot(x=range(1, len(history)+1), y=history.loss, label=\"loss\")\n",
        "sns.lineplot(x=range(1, len(history)+1), y=history.val_loss, label=\"val_loss\")\n",
        "plt.xlabel(\"Epock\")"
      ],
      "execution_count": 33,
      "outputs": [
        {
          "output_type": "execute_result",
          "data": {
            "text/plain": [
              "Text(0.5, 0, 'Epock')"
            ]
          },
          "metadata": {
            "tags": []
          },
          "execution_count": 33
        },
        {
          "output_type": "display_data",
          "data": {
            "image/png": "[encoded data removed]",
            "text/plain": [
              "<Figure size 432x288 with 1 Axes>"
            ]
          },
          "metadata": {
            "tags": []
          }
        }
      ]
    },
    {
      "cell_type": "markdown",
      "metadata": {
        "id": "t8FCjG0FtLzU",
        "colab_type": "text"
      },
      "source": [
        "必要ならモデルの情報を保存しておけます。"
      ]
    },
    {
      "cell_type": "code",
      "metadata": {
        "id": "Kb50G2v3tKxM",
        "colab_type": "code",
        "colab": {}
      },
      "source": [
        "model.save(\"simple_model.h5\")"
      ],
      "execution_count": 0,
      "outputs": []
    },
    {
      "cell_type": "markdown",
      "metadata": {
        "id": "uvWPMZEktc9k",
        "colab_type": "text"
      },
      "source": [
        "保存してあるモデルはkeras の models.load_model で読み込むことが出来ます。重みだけの情報を保存したり、訓練途中のモデルを保存したりも出来ます。その辺は公式サイトの説明が親切です。[モデルの保存と復元](https://www.tensorflow.org/tutorials/keras/save_and_load?hl=ja)"
      ]
    },
    {
      "cell_type": "code",
      "metadata": {
        "id": "nTAhnVYDtu6P",
        "colab_type": "code",
        "colab": {
          "base_uri": "https://localhost:8080/",
          "height": 70
        },
        "outputId": "ee3248ff-23ef-482f-f4b7-d7555cd9c49a"
      },
      "source": [
        "new_model = keras.models.load_model('simple_model.h5')\n",
        "pred= new_model.predict(np.expand_dims(test_images[0],0))\n",
        "pred=np.argmax(pred)\n",
        "loss, acc = new_model.evaluate(test_images, test_labels)\n",
        "print(\"予測値={}, 正解ラベル={}\".format(pred, test_labels[0]))\n",
        "print(\"正解率={}\".format(acc))"
      ],
      "execution_count": 42,
      "outputs": [
        {
          "output_type": "stream",
          "text": [
            "10000/10000 [==============================] - 1s 71us/sample - loss: 0.0785 - acc: 0.9764\n",
            "予測値=7, 正解ラベル=7\n",
            "正解率=0.9764000177383423\n"
          ],
          "name": "stdout"
        }
      ]
    },
    {
      "cell_type": "markdown",
      "metadata": {
        "id": "aFVNAt4Kvxkw",
        "colab_type": "text"
      },
      "source": [
        "トレーニングしたmodel と保存したのを呼び出したnew_model は同じ性能です。モデルの構築から評価はこんな感じだと思います。次は、勾配の情報を取り出すとか、少し立ち入ってモデルを見たい時にどうするか書いていきます。"
      ]
    },
    {
      "cell_type": "markdown",
      "metadata": {
        "id": "NTdCyoP-wLif",
        "colab_type": "text"
      },
      "source": [
        "# Keras backend function を使う"
      ]
    },
    {
      "cell_type": "markdown",
      "metadata": {
        "id": "TJ7esh_NwmrV",
        "colab_type": "text"
      },
      "source": [
        "モデルの途中の値を見たいとか(CNNで画像がどう変わっていくか見たいとか), 勾配の情報を監視したいとか、そんなときがあると思います。\n",
        "その時は、keras のbackend を使います。\n",
        "この時、import keras.backend としてしまうとエラーが出て、やりたいことが出来なくなります。最後にエラーが出るコードを載せておきます。 "
      ]
    },
    {
      "cell_type": "code",
      "metadata": {
        "id": "LlE-Ajv0wUYy",
        "colab_type": "code",
        "colab": {}
      },
      "source": [
        "import tensorflow.keras.backend as K"
      ],
      "execution_count": 0,
      "outputs": []
    },
    {
      "cell_type": "markdown",
      "metadata": {
        "id": "iH1k6gog0l_3",
        "colab_type": "text"
      },
      "source": [
        "今回は、heatmap を作る時の手法を使います。model の出力値\"5\" の勾配情報を取得します。\n",
        "model.summary で出てくる名前を使って、好きな層の勾配情報を取得できますが、weightとbias それぞれに関する勾配をどうやって取得するのかは良く分かっていません。(教えてください。)\n"
      ]
    },
    {
      "cell_type": "code",
      "metadata": {
        "id": "CMDt920c0lYo",
        "colab_type": "code",
        "colab": {}
      },
      "source": [
        "class_output = model.output[:,5]  # Tensor / クラススコア\n",
        "grad_tensor = K.gradients(class_output, model.input)[0]  # Tensor / クラススコアに対する入力の勾配\n",
        "grad_func = K.function([model.input], [grad_tensor])  #  勾配の値を算出するための関数\n",
        "x= np.expand_dims(train_images[0], axis=0)  #画像自体は大きさが(28,28) なので(1,28,28)にする\n",
        "gradient = grad_func([x])[0][0]  # ndarray: 算出された勾配の値"
      ],
      "execution_count": 0,
      "outputs": []
    },
    {
      "cell_type": "code",
      "metadata": {
        "id": "dcjCvb1SESJe",
        "colab_type": "code",
        "outputId": "f6c77cde-7589-4f0a-b13d-ab8b30cf1998",
        "colab": {
          "base_uri": "https://localhost:8080/",
          "height": 285
        }
      },
      "source": [
        "plt.imshow(gradient)"
      ],
      "execution_count": 129,
      "outputs": [
        {
          "output_type": "execute_result",
          "data": {
            "text/plain": [
              "<matplotlib.image.AxesImage at 0x7f8c04c7ba90>"
            ]
          },
          "metadata": {
            "tags": []
          },
          "execution_count": 129
        },
        {
          "output_type": "display_data",
          "data": {
            "image/png": "[encoded data removed]",
            "text/plain": [
              "<Figure size 432x288 with 1 Axes>"
            ]
          },
          "metadata": {
            "tags": []
          }
        }
      ]
    },
    {
      "cell_type": "markdown",
      "metadata": {
        "id": "tjjaYn-DIpGK",
        "colab_type": "text"
      },
      "source": [
        "model にはoutput とoutouts がありますが、outputsを使うとエラーが起きます。これは良く分かりません。print して情報を見ると微妙に違うので、そのせいなのでしょう。(教えてください)"
      ]
    },
    {
      "cell_type": "code",
      "metadata": {
        "id": "-yn6rpRqEAwt",
        "colab_type": "code",
        "colab": {
          "base_uri": "https://localhost:8080/",
          "height": 278
        },
        "outputId": "c7538ff1-3421-4e7f-fc31-38383b05932c"
      },
      "source": [
        "print(model.outputs)\n",
        "print(model.output)\n",
        "class_output = model.outputs[:,5]  # Tensor / クラススコア\n",
        "grad_tensor = K.gradients(class_output, model.input)[0]  # Tensor / クラススコアに対する入力の勾配\n",
        "grad_func = K.function([model.input], [grad_tensor])  # 勾配の値を算出するための関数\n",
        "gradient = grad_func([x])[0][0]  # ndarray: 算出された勾配の値"
      ],
      "execution_count": 132,
      "outputs": [
        {
          "output_type": "stream",
          "text": [
            "[<tf.Tensor 'dense_1/Softmax:0' shape=(?, 10) dtype=float32>]\n",
            "Tensor(\"dense_1/Softmax:0\", shape=(?, 10), dtype=float32)\n"
          ],
          "name": "stdout"
        },
        {
          "output_type": "error",
          "ename": "TypeError",
          "evalue": "ignored",
          "traceback": [
            "\u001b[0;31m---------------------------------------------------------------------------\u001b[0m",
            "\u001b[0;31mTypeError\u001b[0m                                 Traceback (most recent call last)",
            "\u001b[0;32m<ipython-input-132-423fe165261f>\u001b[0m in \u001b[0;36m<module>\u001b[0;34m()\u001b[0m\n\u001b[1;32m      1\u001b[0m \u001b[0mprint\u001b[0m\u001b[0;34m(\u001b[0m\u001b[0mmodel\u001b[0m\u001b[0;34m.\u001b[0m\u001b[0moutputs\u001b[0m\u001b[0;34m)\u001b[0m\u001b[0;34m\u001b[0m\u001b[0;34m\u001b[0m\u001b[0m\n\u001b[1;32m      2\u001b[0m \u001b[0mprint\u001b[0m\u001b[0;34m(\u001b[0m\u001b[0mmodel\u001b[0m\u001b[0;34m.\u001b[0m\u001b[0moutput\u001b[0m\u001b[0;34m)\u001b[0m\u001b[0;34m\u001b[0m\u001b[0;34m\u001b[0m\u001b[0m\n\u001b[0;32m----> 3\u001b[0;31m \u001b[0mclass_output\u001b[0m \u001b[0;34m=\u001b[0m \u001b[0mmodel\u001b[0m\u001b[0;34m.\u001b[0m\u001b[0moutputs\u001b[0m\u001b[0;34m[\u001b[0m\u001b[0;34m:\u001b[0m\u001b[0;34m,\u001b[0m\u001b[0;36m5\u001b[0m\u001b[0;34m]\u001b[0m  \u001b[0;31m# Tensor / クラススコア\u001b[0m\u001b[0;34m\u001b[0m\u001b[0;34m\u001b[0m\u001b[0m\n\u001b[0m\u001b[1;32m      4\u001b[0m \u001b[0mgrad_tensor\u001b[0m \u001b[0;34m=\u001b[0m \u001b[0mK\u001b[0m\u001b[0;34m.\u001b[0m\u001b[0mgradients\u001b[0m\u001b[0;34m(\u001b[0m\u001b[0mclass_output\u001b[0m\u001b[0;34m,\u001b[0m \u001b[0mmodel\u001b[0m\u001b[0;34m.\u001b[0m\u001b[0minput\u001b[0m\u001b[0;34m)\u001b[0m\u001b[0;34m[\u001b[0m\u001b[0;36m0\u001b[0m\u001b[0;34m]\u001b[0m  \u001b[0;31m# Tensor / クラススコアに対する入力の勾配\u001b[0m\u001b[0;34m\u001b[0m\u001b[0;34m\u001b[0m\u001b[0m\n\u001b[1;32m      5\u001b[0m \u001b[0mgrad_func\u001b[0m \u001b[0;34m=\u001b[0m \u001b[0mK\u001b[0m\u001b[0;34m.\u001b[0m\u001b[0mfunction\u001b[0m\u001b[0;34m(\u001b[0m\u001b[0;34m[\u001b[0m\u001b[0mmodel\u001b[0m\u001b[0;34m.\u001b[0m\u001b[0minput\u001b[0m\u001b[0;34m]\u001b[0m\u001b[0;34m,\u001b[0m \u001b[0;34m[\u001b[0m\u001b[0mgrad_tensor\u001b[0m\u001b[0;34m]\u001b[0m\u001b[0;34m)\u001b[0m  \u001b[0;31m# 勾配の値を算出するための関数\u001b[0m\u001b[0;34m\u001b[0m\u001b[0;34m\u001b[0m\u001b[0m\n",
            "\u001b[0;31mTypeError\u001b[0m: list indices must be integers or slices, not tuple"
          ]
        }
      ]
    },
    {
      "cell_type": "markdown",
      "metadata": {
        "id": "F5mCfdp4JT5X",
        "colab_type": "text"
      },
      "source": [
        "# 起こしがちなエラー"
      ]
    },
    {
      "cell_type": "markdown",
      "metadata": {
        "id": "m6bAE7pnJb9Q",
        "colab_type": "text"
      },
      "source": [
        "勾配を取得するに限らずですが、やってしまいがちなエラーがあります。それは、keras関連のものを import する時にtensorflow. と明示し忘れる事です。勾配取得でこれをやると、エラーが起きますし、色々な所でエラーが起きます。"
      ]
    },
    {
      "cell_type": "code",
      "metadata": {
        "id": "e7EoQbj0AiYj",
        "colab_type": "code",
        "colab": {
          "base_uri": "https://localhost:8080/",
          "height": 34
        },
        "outputId": "9813835e-9fed-4996-e726-b2e4240f3fe1"
      },
      "source": [
        "import keras.backend as K"
      ],
      "execution_count": 133,
      "outputs": [
        {
          "output_type": "stream",
          "text": [
            "Using TensorFlow backend.\n"
          ],
          "name": "stderr"
        }
      ]
    },
    {
      "cell_type": "code",
      "metadata": {
        "id": "scSN_cNXJ1CV",
        "colab_type": "code",
        "colab": {
          "base_uri": "https://localhost:8080/",
          "height": 623
        },
        "outputId": "dbdd4386-a886-4492-c3ae-c140d76e3245"
      },
      "source": [
        "class_output = model.output[:,5]  # Tensor / クラススコア\n",
        "grad_tensor = K.gradients(class_output, model.input)[0]  # Tensor / クラススコアに対する入力の勾配\n",
        "grad_func = K.function([model.input], [grad_tensor])  #  勾配の値を算出するための関数\n",
        "x= np.expand_dims(train_images[0], axis=0)  #画像自体は大きさが(28,28) なので(1,28,28)にする\n",
        "gradient = grad_func([x])[0][0]  # ndarray: 算出された勾配の値"
      ],
      "execution_count": 134,
      "outputs": [
        {
          "output_type": "stream",
          "text": [
            "WARNING:tensorflow:From /usr/local/lib/python3.6/dist-packages/keras/backend/tensorflow_backend.py:190: The name tf.get_default_session is deprecated. Please use tf.compat.v1.get_default_session instead.\n",
            "\n",
            "WARNING:tensorflow:From /usr/local/lib/python3.6/dist-packages/keras/backend/tensorflow_backend.py:197: The name tf.ConfigProto is deprecated. Please use tf.compat.v1.ConfigProto instead.\n",
            "\n",
            "WARNING:tensorflow:From /usr/local/lib/python3.6/dist-packages/keras/backend/tensorflow_backend.py:203: The name tf.Session is deprecated. Please use tf.compat.v1.Session instead.\n",
            "\n",
            "WARNING:tensorflow:From /usr/local/lib/python3.6/dist-packages/keras/backend/tensorflow_backend.py:207: The name tf.global_variables is deprecated. Please use tf.compat.v1.global_variables instead.\n",
            "\n"
          ],
          "name": "stdout"
        },
        {
          "output_type": "error",
          "ename": "FailedPreconditionError",
          "evalue": "ignored",
          "traceback": [
            "\u001b[0;31m---------------------------------------------------------------------------\u001b[0m",
            "\u001b[0;31mFailedPreconditionError\u001b[0m                   Traceback (most recent call last)",
            "\u001b[0;32m<ipython-input-134-e2a8b253994d>\u001b[0m in \u001b[0;36m<module>\u001b[0;34m()\u001b[0m\n\u001b[1;32m      3\u001b[0m \u001b[0mgrad_func\u001b[0m \u001b[0;34m=\u001b[0m \u001b[0mK\u001b[0m\u001b[0;34m.\u001b[0m\u001b[0mfunction\u001b[0m\u001b[0;34m(\u001b[0m\u001b[0;34m[\u001b[0m\u001b[0mmodel\u001b[0m\u001b[0;34m.\u001b[0m\u001b[0minput\u001b[0m\u001b[0;34m]\u001b[0m\u001b[0;34m,\u001b[0m \u001b[0;34m[\u001b[0m\u001b[0mgrad_tensor\u001b[0m\u001b[0;34m]\u001b[0m\u001b[0;34m)\u001b[0m  \u001b[0;31m#  勾配の値を算出するための関数\u001b[0m\u001b[0;34m\u001b[0m\u001b[0;34m\u001b[0m\u001b[0m\n\u001b[1;32m      4\u001b[0m \u001b[0mx\u001b[0m\u001b[0;34m=\u001b[0m \u001b[0mnp\u001b[0m\u001b[0;34m.\u001b[0m\u001b[0mexpand_dims\u001b[0m\u001b[0;34m(\u001b[0m\u001b[0mtrain_images\u001b[0m\u001b[0;34m[\u001b[0m\u001b[0;36m0\u001b[0m\u001b[0;34m]\u001b[0m\u001b[0;34m,\u001b[0m \u001b[0maxis\u001b[0m\u001b[0;34m=\u001b[0m\u001b[0;36m0\u001b[0m\u001b[0;34m)\u001b[0m  \u001b[0;31m#画像自体は大きさが(28,28) なので(1,28,28)にする\u001b[0m\u001b[0;34m\u001b[0m\u001b[0;34m\u001b[0m\u001b[0m\n\u001b[0;32m----> 5\u001b[0;31m \u001b[0mgradient\u001b[0m \u001b[0;34m=\u001b[0m \u001b[0mgrad_func\u001b[0m\u001b[0;34m(\u001b[0m\u001b[0;34m[\u001b[0m\u001b[0mx\u001b[0m\u001b[0;34m]\u001b[0m\u001b[0;34m)\u001b[0m\u001b[0;34m[\u001b[0m\u001b[0;36m0\u001b[0m\u001b[0;34m]\u001b[0m\u001b[0;34m[\u001b[0m\u001b[0;36m0\u001b[0m\u001b[0;34m]\u001b[0m  \u001b[0;31m# ndarray: 算出された勾配の値\u001b[0m\u001b[0;34m\u001b[0m\u001b[0;34m\u001b[0m\u001b[0m\n\u001b[0m",
            "\u001b[0;32m/usr/local/lib/python3.6/dist-packages/keras/backend/tensorflow_backend.py\u001b[0m in \u001b[0;36m__call__\u001b[0;34m(self, inputs)\u001b[0m\n\u001b[1;32m   2977\u001b[0m                     \u001b[0;32mreturn\u001b[0m \u001b[0mself\u001b[0m\u001b[0;34m.\u001b[0m\u001b[0m_legacy_call\u001b[0m\u001b[0;34m(\u001b[0m\u001b[0minputs\u001b[0m\u001b[0;34m)\u001b[0m\u001b[0;34m\u001b[0m\u001b[0;34m\u001b[0m\u001b[0m\n\u001b[1;32m   2978\u001b[0m \u001b[0;34m\u001b[0m\u001b[0m\n\u001b[0;32m-> 2979\u001b[0;31m             \u001b[0;32mreturn\u001b[0m \u001b[0mself\u001b[0m\u001b[0;34m.\u001b[0m\u001b[0m_call\u001b[0m\u001b[0;34m(\u001b[0m\u001b[0minputs\u001b[0m\u001b[0;34m)\u001b[0m\u001b[0;34m\u001b[0m\u001b[0;34m\u001b[0m\u001b[0m\n\u001b[0m\u001b[1;32m   2980\u001b[0m         \u001b[0;32melse\u001b[0m\u001b[0;34m:\u001b[0m\u001b[0;34m\u001b[0m\u001b[0;34m\u001b[0m\u001b[0m\n\u001b[1;32m   2981\u001b[0m             \u001b[0;32mif\u001b[0m \u001b[0mpy_any\u001b[0m\u001b[0;34m(\u001b[0m\u001b[0mis_tensor\u001b[0m\u001b[0;34m(\u001b[0m\u001b[0mx\u001b[0m\u001b[0;34m)\u001b[0m \u001b[0;32mfor\u001b[0m \u001b[0mx\u001b[0m \u001b[0;32min\u001b[0m \u001b[0minputs\u001b[0m\u001b[0;34m)\u001b[0m\u001b[0;34m:\u001b[0m\u001b[0;34m\u001b[0m\u001b[0;34m\u001b[0m\u001b[0m\n",
            "\u001b[0;32m/usr/local/lib/python3.6/dist-packages/keras/backend/tensorflow_backend.py\u001b[0m in \u001b[0;36m_call\u001b[0;34m(self, inputs)\u001b[0m\n\u001b[1;32m   2935\u001b[0m             \u001b[0mfetched\u001b[0m \u001b[0;34m=\u001b[0m \u001b[0mself\u001b[0m\u001b[0;34m.\u001b[0m\u001b[0m_callable_fn\u001b[0m\u001b[0;34m(\u001b[0m\u001b[0;34m*\u001b[0m\u001b[0marray_vals\u001b[0m\u001b[0;34m,\u001b[0m \u001b[0mrun_metadata\u001b[0m\u001b[0;34m=\u001b[0m\u001b[0mself\u001b[0m\u001b[0;34m.\u001b[0m\u001b[0mrun_metadata\u001b[0m\u001b[0;34m)\u001b[0m\u001b[0;34m\u001b[0m\u001b[0;34m\u001b[0m\u001b[0m\n\u001b[1;32m   2936\u001b[0m         \u001b[0;32melse\u001b[0m\u001b[0;34m:\u001b[0m\u001b[0;34m\u001b[0m\u001b[0;34m\u001b[0m\u001b[0m\n\u001b[0;32m-> 2937\u001b[0;31m             \u001b[0mfetched\u001b[0m \u001b[0;34m=\u001b[0m \u001b[0mself\u001b[0m\u001b[0;34m.\u001b[0m\u001b[0m_callable_fn\u001b[0m\u001b[0;34m(\u001b[0m\u001b[0;34m*\u001b[0m\u001b[0marray_vals\u001b[0m\u001b[0;34m)\u001b[0m\u001b[0;34m\u001b[0m\u001b[0;34m\u001b[0m\u001b[0m\n\u001b[0m\u001b[1;32m   2938\u001b[0m         \u001b[0;32mreturn\u001b[0m \u001b[0mfetched\u001b[0m\u001b[0;34m[\u001b[0m\u001b[0;34m:\u001b[0m\u001b[0mlen\u001b[0m\u001b[0;34m(\u001b[0m\u001b[0mself\u001b[0m\u001b[0;34m.\u001b[0m\u001b[0moutputs\u001b[0m\u001b[0;34m)\u001b[0m\u001b[0;34m]\u001b[0m\u001b[0;34m\u001b[0m\u001b[0;34m\u001b[0m\u001b[0m\n\u001b[1;32m   2939\u001b[0m \u001b[0;34m\u001b[0m\u001b[0m\n",
            "\u001b[0;32m/usr/local/lib/python3.6/dist-packages/tensorflow_core/python/client/session.py\u001b[0m in \u001b[0;36m__call__\u001b[0;34m(self, *args, **kwargs)\u001b[0m\n\u001b[1;32m   1470\u001b[0m         ret = tf_session.TF_SessionRunCallable(self._session._session,\n\u001b[1;32m   1471\u001b[0m                                                \u001b[0mself\u001b[0m\u001b[0;34m.\u001b[0m\u001b[0m_handle\u001b[0m\u001b[0;34m,\u001b[0m \u001b[0margs\u001b[0m\u001b[0;34m,\u001b[0m\u001b[0;34m\u001b[0m\u001b[0;34m\u001b[0m\u001b[0m\n\u001b[0;32m-> 1472\u001b[0;31m                                                run_metadata_ptr)\n\u001b[0m\u001b[1;32m   1473\u001b[0m         \u001b[0;32mif\u001b[0m \u001b[0mrun_metadata\u001b[0m\u001b[0;34m:\u001b[0m\u001b[0;34m\u001b[0m\u001b[0;34m\u001b[0m\u001b[0m\n\u001b[1;32m   1474\u001b[0m           \u001b[0mproto_data\u001b[0m \u001b[0;34m=\u001b[0m \u001b[0mtf_session\u001b[0m\u001b[0;34m.\u001b[0m\u001b[0mTF_GetBuffer\u001b[0m\u001b[0;34m(\u001b[0m\u001b[0mrun_metadata_ptr\u001b[0m\u001b[0;34m)\u001b[0m\u001b[0;34m\u001b[0m\u001b[0;34m\u001b[0m\u001b[0m\n",
            "\u001b[0;31mFailedPreconditionError\u001b[0m: 2 root error(s) found.\n  (0) Failed precondition: Error while reading resource variable dense/kernel from Container: localhost. This could mean that the variable was uninitialized. Not found: Container localhost does not exist. (Could not find resource: localhost/dense/kernel)\n\t [[{{node dense/MatMul/ReadVariableOp}}]]\n\t [[gradients_34/flatten/Reshape_grad/Reshape/_3]]\n  (1) Failed precondition: Error while reading resource variable dense/kernel from Container: localhost. This could mean that the variable was uninitialized. Not found: Container localhost does not exist. (Could not find resource: localhost/dense/kernel)\n\t [[{{node dense/MatMul/ReadVariableOp}}]]\n0 successful operations.\n0 derived errors ignored."
          ]
        }
      ]
    },
    {
      "cell_type": "markdown",
      "metadata": {
        "id": "TTqzaj71J7Vb",
        "colab_type": "text"
      },
      "source": [
        "このエラーで1日溶かしてしまったので、この記事を読んだ人の助けになれば幸いです。"
      ]
    },
    {
      "cell_type": "code",
      "metadata": {
        "id": "0wEis328rZRz",
        "colab_type": "code",
        "colab": {}
      },
      "source": [
        ""
      ],
      "execution_count": 0,
      "outputs": []
    }
  ]
}