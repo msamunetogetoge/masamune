{
  "nbformat": 4,
  "nbformat_minor": 0,
  "metadata": {
    "colab": {
      "name": "平均_BLUE.ipynb",
      "provenance": [],
      "collapsed_sections": [],
      "toc_visible": true,
      "authorship_tag": "ABX9TyOOr25V60XUN7vrAAfUHlci",
      "include_colab_link": true
    },
    "kernelspec": {
      "name": "python3",
      "display_name": "Python 3"
    }
  },
  "cells": [
    {
      "cell_type": "markdown",
      "metadata": {
        "id": "view-in-github",
        "colab_type": "text"
      },
      "source": [
        "<a href=\"https://colab.research.google.com/github/msamunetogetoge/masamune/blob/master/%E5%B9%B3%E5%9D%87_BLUE.ipynb\" target=\"_parent\"><img src=\"https://colab.research.google.com/assets/colab-badge.svg\" alt=\"Open In Colab\"/></a>"
      ]
    },
    {
      "cell_type": "code",
      "metadata": {
        "id": "XaYEuMhzaUtn",
        "colab_type": "code",
        "outputId": "08183919-2818-48e3-edc2-494002593f44",
        "colab": {
          "base_uri": "https://localhost:8080/",
          "height": 52
        }
      },
      "source": [
        "import numpy as np\n",
        "import matplotlib.pyplot as plt\n",
        "import seaborn as sns\n",
        "sns.set()\n",
        "from scipy import stats\n",
        "import pandas as pd"
      ],
      "execution_count": 0,
      "outputs": [
        {
          "output_type": "stream",
          "text": [
            "/usr/local/lib/python3.6/dist-packages/statsmodels/tools/_testing.py:19: FutureWarning: pandas.util.testing is deprecated. Use the functions in the public API at pandas.testing instead.\n",
            "  import pandas.util.testing as tm\n"
          ],
          "name": "stderr"
        }
      ]
    },
    {
      "cell_type": "code",
      "metadata": {
        "id": "Z25FXIbPbqxk",
        "colab_type": "code",
        "colab": {}
      },
      "source": [
        "import itertools"
      ],
      "execution_count": 0,
      "outputs": []
    },
    {
      "cell_type": "code",
      "metadata": {
        "id": "5IwCXMHaagP-",
        "colab_type": "code",
        "outputId": "1f76c802-f668-4cb0-ad31-a2477351c0b6",
        "colab": {
          "base_uri": "https://localhost:8080/",
          "height": 212
        }
      },
      "source": [
        "!pip install japanize-matplotlib\n",
        "import japanize_matplotlib"
      ],
      "execution_count": 0,
      "outputs": [
        {
          "output_type": "stream",
          "text": [
            "Requirement already satisfied: japanize-matplotlib in /usr/local/lib/python3.6/dist-packages (1.1.2)\n",
            "Requirement already satisfied: matplotlib in /usr/local/lib/python3.6/dist-packages (from japanize-matplotlib) (3.2.1)\n",
            "Requirement already satisfied: numpy>=1.11 in /usr/local/lib/python3.6/dist-packages (from matplotlib->japanize-matplotlib) (1.18.3)\n",
            "Requirement already satisfied: python-dateutil>=2.1 in /usr/local/lib/python3.6/dist-packages (from matplotlib->japanize-matplotlib) (2.8.1)\n",
            "Requirement already satisfied: kiwisolver>=1.0.1 in /usr/local/lib/python3.6/dist-packages (from matplotlib->japanize-matplotlib) (1.2.0)\n",
            "Requirement already satisfied: cycler>=0.10 in /usr/local/lib/python3.6/dist-packages (from matplotlib->japanize-matplotlib) (0.10.0)\n",
            "Requirement already satisfied: pyparsing!=2.0.4,!=2.1.2,!=2.1.6,>=2.0.1 in /usr/local/lib/python3.6/dist-packages (from matplotlib->japanize-matplotlib) (2.4.7)\n",
            "Requirement already satisfied: six>=1.5 in /usr/local/lib/python3.6/dist-packages (from python-dateutil>=2.1->matplotlib->japanize-matplotlib) (1.12.0)\n"
          ],
          "name": "stdout"
        },
        {
          "output_type": "stream",
          "text": [
            "/usr/local/lib/python3.6/dist-packages/japanize_matplotlib/japanize_matplotlib.py:15: MatplotlibDeprecationWarning: \n",
            "The createFontList function was deprecated in Matplotlib 3.2 and will be removed two minor releases later. Use FontManager.addfont instead.\n",
            "  font_list = font_manager.createFontList(font_files)\n"
          ],
          "name": "stderr"
        }
      ]
    },
    {
      "cell_type": "markdown",
      "metadata": {
        "id": "6CQ0Ohnk3ZKJ",
        "colab_type": "text"
      },
      "source": [
        "\n",
        "データの準備"
      ]
    },
    {
      "cell_type": "code",
      "metadata": {
        "id": "wxtIz1_lah8u",
        "colab_type": "code",
        "colab": {}
      },
      "source": [
        "np.random.seed(3)\n",
        "X=np.random.normal(loc=0,scale=1,size=100)\n",
        "a = np.random.normal(size=100)"
      ],
      "execution_count": 0,
      "outputs": []
    },
    {
      "cell_type": "markdown",
      "metadata": {
        "id": "L8_3YKtZdZEz",
        "colab_type": "text"
      },
      "source": [
        "MSEなどの計算\n",
        "\n",
        "\n",
        "\n",
        "\n"
      ]
    },
    {
      "cell_type": "code",
      "metadata": {
        "id": "jlXV6xRueBFi",
        "colab_type": "code",
        "colab": {}
      },
      "source": [
        "def nabla_MSE(a):\n",
        "    nabla =2*a\n",
        "    return nabla"
      ],
      "execution_count": 0,
      "outputs": []
    },
    {
      "cell_type": "code",
      "metadata": {
        "id": "EUDKTIW1b4JY",
        "colab_type": "code",
        "colab": {}
      },
      "source": [
        "def Var(a):\n",
        "    var = np.sum(a*a)\n",
        "    return var"
      ],
      "execution_count": 0,
      "outputs": []
    },
    {
      "cell_type": "code",
      "metadata": {
        "id": "AcC6uJX22VT2",
        "colab_type": "code",
        "colab": {}
      },
      "source": [
        "a_0 =[]\n",
        "var=[]\n",
        "bias=[]\n",
        "eta=0.001"
      ],
      "execution_count": 0,
      "outputs": []
    },
    {
      "cell_type": "markdown",
      "metadata": {
        "id": "-tJZVS0M8h2c",
        "colab_type": "text"
      },
      "source": [
        "勾配法でバイアスや分散がどう変化しているか調べる"
      ]
    },
    {
      "cell_type": "code",
      "metadata": {
        "id": "lSr066j1a4Cj",
        "colab_type": "code",
        "colab": {}
      },
      "source": [
        "for i in range(2000):\n",
        "    a-=eta*nabla_MSE(a)\n",
        "    a_0.append(a[0])\n",
        "    V = Var(a)\n",
        "    var.append(V)\n",
        "    x_hat=a@X.T\n",
        "    bias.append(x_hat)\n",
        "          "
      ],
      "execution_count": 0,
      "outputs": []
    },
    {
      "cell_type": "code",
      "metadata": {
        "id": "PB2Xywb2bFJa",
        "colab_type": "code",
        "outputId": "da302aed-7913-44e0-ab26-fb282b541375",
        "colab": {
          "base_uri": "https://localhost:8080/",
          "height": 284
        }
      },
      "source": [
        "plt.plot(var)\n",
        "plt.plot(range(len(var)), np.ones(len(var))*0.01, linestyle = \"dashed\",c=\"r\" )\n",
        "plt.title(\"平均の分散\")\n",
        "plt.savefig(\"平均の分散.png\")"
      ],
      "execution_count": 0,
      "outputs": [
        {
          "output_type": "display_data",
          "data": {
            "image/png": "[encoded data removed]",
            "text/plain": [
              "<Figure size 432x288 with 1 Axes>"
            ]
          },
          "metadata": {
            "tags": [],
            "needs_background": "light"
          }
        }
      ]
    },
    {
      "cell_type": "code",
      "metadata": {
        "id": "OKxTq__nesri",
        "colab_type": "code",
        "outputId": "95d6b54e-1a3d-44e2-d37e-58a8aa50e0b4",
        "colab": {
          "base_uri": "https://localhost:8080/",
          "height": 284
        }
      },
      "source": [
        "plt.plot(a_0)\n",
        "plt.plot(range(len(a_0)), np.ones(len(a_0))*0.01, linestyle = \"dashed\",c=\"r\" )\n",
        "plt.title(\"a_iの推定値\")\n",
        "plt.savefig(\"a_i.png\")"
      ],
      "execution_count": 0,
      "outputs": [
        {
          "output_type": "display_data",
          "data": {
            "image/png": "[encoded data removed]",
            "text/plain": [
              "<Figure size 432x288 with 1 Axes>"
            ]
          },
          "metadata": {
            "tags": [],
            "needs_background": "light"
          }
        }
      ]
    },
    {
      "cell_type": "code",
      "metadata": {
        "id": "my9QlDJYfEAu",
        "colab_type": "code",
        "outputId": "ee1fe50a-ca7a-46cd-898d-6d133fdc6f9f",
        "colab": {
          "base_uri": "https://localhost:8080/",
          "height": 284
        }
      },
      "source": [
        "plt.plot(bias)\n",
        "plt.plot(range(len(bias)), np.ones(len(bias))*0, linestyle = \"dashed\",c=\"r\" )\n",
        "plt.title(\"バイアス\")\n",
        "plt.savefig(\"バイアス.png\")"
      ],
      "execution_count": 0,
      "outputs": [
        {
          "output_type": "display_data",
          "data": {
            "image/png": "[encoded data removed]",
            "text/plain": [
              "<Figure size 432x288 with 1 Axes>"
            ]
          },
          "metadata": {
            "tags": [],
            "needs_background": "light"
          }
        }
      ]
    },
    {
      "cell_type": "code",
      "metadata": {
        "id": "Cfzcd4xr8aD_",
        "colab_type": "code",
        "colab": {}
      },
      "source": [
        ""
      ],
      "execution_count": 0,
      "outputs": []
    }
  ]
}