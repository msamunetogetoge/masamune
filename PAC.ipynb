{
  "nbformat": 4,
  "nbformat_minor": 0,
  "metadata": {
    "colab": {
      "name": "PAC.ipynb",
      "provenance": [],
      "collapsed_sections": [
        "zLUkg6DyxzOI"
      ],
      "toc_visible": true,
      "authorship_tag": "ABX9TyOLCDmkhO2JX9UnTN2BXq5L",
      "include_colab_link": true
    },
    "kernelspec": {
      "name": "python3",
      "display_name": "Python 3"
    }
  },
  "cells": [
    {
      "cell_type": "markdown",
      "metadata": {
        "id": "view-in-github",
        "colab_type": "text"
      },
      "source": [
        "<a href=\"https://colab.research.google.com/github/msamunetogetoge/masamune/blob/master/PAC.ipynb\" target=\"_parent\"><img src=\"https://colab.research.google.com/assets/colab-badge.svg\" alt=\"Open In Colab\"/></a>"
      ]
    },
    {
      "cell_type": "markdown",
      "metadata": {
        "id": "HPeX7ptdRaJV",
        "colab_type": "text"
      },
      "source": [
        "# irisで練習"
      ]
    },
    {
      "cell_type": "code",
      "metadata": {
        "id": "ZOnhoRHm8oQ9",
        "colab_type": "code",
        "colab": {}
      },
      "source": [
        "from sklearn.datasets import load_iris\n",
        "import pandas as pd\n",
        "import numpy as np\n",
        "iris = load_iris()"
      ],
      "execution_count": 0,
      "outputs": []
    },
    {
      "cell_type": "code",
      "metadata": {
        "id": "gEqNpjVp9Arp",
        "colab_type": "code",
        "outputId": "43c70527-dba5-4969-88d6-4a550a5d374f",
        "colab": {
          "base_uri": "https://localhost:8080/",
          "height": 204
        }
      },
      "source": [
        "df = pd.DataFrame(iris.data, columns=iris.feature_names)\n",
        "df['target'] = iris.target_names[iris.target]\n",
        "df.head()"
      ],
      "execution_count": 0,
      "outputs": [
        {
          "output_type": "execute_result",
          "data": {
            "text/html": [
              "<div>\n",
              "<style scoped>\n",
              "    .dataframe tbody tr th:only-of-type {\n",
              "        vertical-align: middle;\n",
              "    }\n",
              "\n",
              "    .dataframe tbody tr th {\n",
              "        vertical-align: top;\n",
              "    }\n",
              "\n",
              "    .dataframe thead th {\n",
              "        text-align: right;\n",
              "    }\n",
              "</style>\n",
              "<table border=\"1\" class=\"dataframe\">\n",
              "  <thead>\n",
              "    <tr style=\"text-align: right;\">\n",
              "      <th></th>\n",
              "      <th>sepal length (cm)</th>\n",
              "      <th>sepal width (cm)</th>\n",
              "      <th>petal length (cm)</th>\n",
              "      <th>petal width (cm)</th>\n",
              "      <th>target</th>\n",
              "    </tr>\n",
              "  </thead>\n",
              "  <tbody>\n",
              "    <tr>\n",
              "      <th>0</th>\n",
              "      <td>5.1</td>\n",
              "      <td>3.5</td>\n",
              "      <td>1.4</td>\n",
              "      <td>0.2</td>\n",
              "      <td>setosa</td>\n",
              "    </tr>\n",
              "    <tr>\n",
              "      <th>1</th>\n",
              "      <td>4.9</td>\n",
              "      <td>3.0</td>\n",
              "      <td>1.4</td>\n",
              "      <td>0.2</td>\n",
              "      <td>setosa</td>\n",
              "    </tr>\n",
              "    <tr>\n",
              "      <th>2</th>\n",
              "      <td>4.7</td>\n",
              "      <td>3.2</td>\n",
              "      <td>1.3</td>\n",
              "      <td>0.2</td>\n",
              "      <td>setosa</td>\n",
              "    </tr>\n",
              "    <tr>\n",
              "      <th>3</th>\n",
              "      <td>4.6</td>\n",
              "      <td>3.1</td>\n",
              "      <td>1.5</td>\n",
              "      <td>0.2</td>\n",
              "      <td>setosa</td>\n",
              "    </tr>\n",
              "    <tr>\n",
              "      <th>4</th>\n",
              "      <td>5.0</td>\n",
              "      <td>3.6</td>\n",
              "      <td>1.4</td>\n",
              "      <td>0.2</td>\n",
              "      <td>setosa</td>\n",
              "    </tr>\n",
              "  </tbody>\n",
              "</table>\n",
              "</div>"
            ],
            "text/plain": [
              "   sepal length (cm)  sepal width (cm)  ...  petal width (cm)  target\n",
              "0                5.1               3.5  ...               0.2  setosa\n",
              "1                4.9               3.0  ...               0.2  setosa\n",
              "2                4.7               3.2  ...               0.2  setosa\n",
              "3                4.6               3.1  ...               0.2  setosa\n",
              "4                5.0               3.6  ...               0.2  setosa\n",
              "\n",
              "[5 rows x 5 columns]"
            ]
          },
          "metadata": {
            "tags": []
          },
          "execution_count": 2
        }
      ]
    },
    {
      "cell_type": "code",
      "metadata": {
        "id": "Q1j45HXJ9ZhX",
        "colab_type": "code",
        "outputId": "8b7c6ced-adec-4f1e-8cff-6a7ba363643c",
        "colab": {
          "base_uri": "https://localhost:8080/",
          "height": 173
        }
      },
      "source": [
        "df.corr()"
      ],
      "execution_count": 0,
      "outputs": [
        {
          "output_type": "execute_result",
          "data": {
            "text/html": [
              "<div>\n",
              "<style scoped>\n",
              "    .dataframe tbody tr th:only-of-type {\n",
              "        vertical-align: middle;\n",
              "    }\n",
              "\n",
              "    .dataframe tbody tr th {\n",
              "        vertical-align: top;\n",
              "    }\n",
              "\n",
              "    .dataframe thead th {\n",
              "        text-align: right;\n",
              "    }\n",
              "</style>\n",
              "<table border=\"1\" class=\"dataframe\">\n",
              "  <thead>\n",
              "    <tr style=\"text-align: right;\">\n",
              "      <th></th>\n",
              "      <th>sepal length (cm)</th>\n",
              "      <th>sepal width (cm)</th>\n",
              "      <th>petal length (cm)</th>\n",
              "      <th>petal width (cm)</th>\n",
              "    </tr>\n",
              "  </thead>\n",
              "  <tbody>\n",
              "    <tr>\n",
              "      <th>sepal length (cm)</th>\n",
              "      <td>1.000000</td>\n",
              "      <td>-0.117570</td>\n",
              "      <td>0.871754</td>\n",
              "      <td>0.817941</td>\n",
              "    </tr>\n",
              "    <tr>\n",
              "      <th>sepal width (cm)</th>\n",
              "      <td>-0.117570</td>\n",
              "      <td>1.000000</td>\n",
              "      <td>-0.428440</td>\n",
              "      <td>-0.366126</td>\n",
              "    </tr>\n",
              "    <tr>\n",
              "      <th>petal length (cm)</th>\n",
              "      <td>0.871754</td>\n",
              "      <td>-0.428440</td>\n",
              "      <td>1.000000</td>\n",
              "      <td>0.962865</td>\n",
              "    </tr>\n",
              "    <tr>\n",
              "      <th>petal width (cm)</th>\n",
              "      <td>0.817941</td>\n",
              "      <td>-0.366126</td>\n",
              "      <td>0.962865</td>\n",
              "      <td>1.000000</td>\n",
              "    </tr>\n",
              "  </tbody>\n",
              "</table>\n",
              "</div>"
            ],
            "text/plain": [
              "                   sepal length (cm)  ...  petal width (cm)\n",
              "sepal length (cm)           1.000000  ...          0.817941\n",
              "sepal width (cm)           -0.117570  ...         -0.366126\n",
              "petal length (cm)           0.871754  ...          0.962865\n",
              "petal width (cm)            0.817941  ...          1.000000\n",
              "\n",
              "[4 rows x 4 columns]"
            ]
          },
          "metadata": {
            "tags": []
          },
          "execution_count": 3
        }
      ]
    },
    {
      "cell_type": "code",
      "metadata": {
        "id": "y6ApLXBbkRa0",
        "colab_type": "code",
        "outputId": "9d897a7d-b01e-4b89-f35c-075404b9e4e7",
        "colab": {
          "base_uri": "https://localhost:8080/",
          "height": 326
        }
      },
      "source": [
        "X=df.iloc[:,:2]\n",
        "X[\"beta_0\"]=1\n",
        "X=X[[\"beta_0\",\"sepal length (cm)\",\"sepal width (cm)\" ]]\n",
        "X.head()"
      ],
      "execution_count": 0,
      "outputs": [
        {
          "output_type": "stream",
          "text": [
            "/usr/local/lib/python3.6/dist-packages/ipykernel_launcher.py:2: SettingWithCopyWarning: \n",
            "A value is trying to be set on a copy of a slice from a DataFrame.\n",
            "Try using .loc[row_indexer,col_indexer] = value instead\n",
            "\n",
            "See the caveats in the documentation: http://pandas.pydata.org/pandas-docs/stable/user_guide/indexing.html#returning-a-view-versus-a-copy\n",
            "  \n"
          ],
          "name": "stderr"
        },
        {
          "output_type": "execute_result",
          "data": {
            "text/html": [
              "<div>\n",
              "<style scoped>\n",
              "    .dataframe tbody tr th:only-of-type {\n",
              "        vertical-align: middle;\n",
              "    }\n",
              "\n",
              "    .dataframe tbody tr th {\n",
              "        vertical-align: top;\n",
              "    }\n",
              "\n",
              "    .dataframe thead th {\n",
              "        text-align: right;\n",
              "    }\n",
              "</style>\n",
              "<table border=\"1\" class=\"dataframe\">\n",
              "  <thead>\n",
              "    <tr style=\"text-align: right;\">\n",
              "      <th></th>\n",
              "      <th>beta_0</th>\n",
              "      <th>sepal length (cm)</th>\n",
              "      <th>sepal width (cm)</th>\n",
              "    </tr>\n",
              "  </thead>\n",
              "  <tbody>\n",
              "    <tr>\n",
              "      <th>0</th>\n",
              "      <td>1</td>\n",
              "      <td>5.1</td>\n",
              "      <td>3.5</td>\n",
              "    </tr>\n",
              "    <tr>\n",
              "      <th>1</th>\n",
              "      <td>1</td>\n",
              "      <td>4.9</td>\n",
              "      <td>3.0</td>\n",
              "    </tr>\n",
              "    <tr>\n",
              "      <th>2</th>\n",
              "      <td>1</td>\n",
              "      <td>4.7</td>\n",
              "      <td>3.2</td>\n",
              "    </tr>\n",
              "    <tr>\n",
              "      <th>3</th>\n",
              "      <td>1</td>\n",
              "      <td>4.6</td>\n",
              "      <td>3.1</td>\n",
              "    </tr>\n",
              "    <tr>\n",
              "      <th>4</th>\n",
              "      <td>1</td>\n",
              "      <td>5.0</td>\n",
              "      <td>3.6</td>\n",
              "    </tr>\n",
              "  </tbody>\n",
              "</table>\n",
              "</div>"
            ],
            "text/plain": [
              "   beta_0  sepal length (cm)  sepal width (cm)\n",
              "0       1                5.1               3.5\n",
              "1       1                4.9               3.0\n",
              "2       1                4.7               3.2\n",
              "3       1                4.6               3.1\n",
              "4       1                5.0               3.6"
            ]
          },
          "metadata": {
            "tags": []
          },
          "execution_count": 4
        }
      ]
    },
    {
      "cell_type": "code",
      "metadata": {
        "id": "xDw8TIIP7yb7",
        "colab_type": "code",
        "colab": {}
      },
      "source": [
        "y=df[[\"petal length (cm)\",\"petal width (cm)\"]]"
      ],
      "execution_count": 0,
      "outputs": []
    },
    {
      "cell_type": "code",
      "metadata": {
        "id": "Ex7Ofs8JS27b",
        "colab_type": "code",
        "colab": {}
      },
      "source": [
        "beta = np.dot(np.dot(np.linalg.inv( np.dot(X.T , X) ) , X.T), y)"
      ],
      "execution_count": 0,
      "outputs": []
    },
    {
      "cell_type": "code",
      "metadata": {
        "id": "ZJFtfi1RQ_0a",
        "colab_type": "code",
        "colab": {}
      },
      "source": [
        "y_hat = np.dot(X, beta)\n",
        "y_hat"
      ],
      "execution_count": 0,
      "outputs": []
    },
    {
      "cell_type": "code",
      "metadata": {
        "id": "pp6Prnt0SnsA",
        "colab_type": "code",
        "outputId": "87f2a251-d716-471c-8d8b-c4712458f637",
        "colab": {
          "base_uri": "https://localhost:8080/",
          "height": 68
        }
      },
      "source": [
        "#patal length とpatal width の相関が0.96\n",
        "Y = y - y_hat\n",
        "S_Y =np.zeros((2,2))\n",
        "for j in [0,1]:\n",
        "    Y_j =Y.iloc[:,j] - np.mean(Y.iloc[:,j])\n",
        "    for i in [0,1] :\n",
        "        Y_i =Y.iloc[:,i] - np.mean(Y.iloc[:,i])  \n",
        "        S_Y[j,i]=np.dot(Y_i, Y_j)\n",
        "print(S_Y)\n",
        "pac = S_Y[0,1]/np.sqrt(S_Y[0,0]*S_Y[1,1])\n",
        "print(pac)"
      ],
      "execution_count": 0,
      "outputs": [
        {
          "output_type": "stream",
          "text": [
            "[[61.43674683 32.19796164]\n",
            " [32.19796164 22.2547057 ]]\n",
            "0.870769773836145\n"
          ],
          "name": "stdout"
        }
      ]
    },
    {
      "cell_type": "markdown",
      "metadata": {
        "id": "bfqp-yF79pWB",
        "colab_type": "text"
      },
      "source": [
        "# AR"
      ]
    },
    {
      "cell_type": "code",
      "metadata": {
        "id": "0TyBQI4aVMLl",
        "colab_type": "code",
        "colab": {}
      },
      "source": [
        "import numpy as np\n",
        "import pandas as pd\n",
        "import matplotlib.pyplot as plt\n",
        "import seaborn as sns\n",
        "sns.set()"
      ],
      "execution_count": 0,
      "outputs": []
    },
    {
      "cell_type": "code",
      "metadata": {
        "id": "dbHdC1gbVRgH",
        "colab_type": "code",
        "colab": {}
      },
      "source": [
        "def autcor(X, k):\n",
        "    X_bar = np.mean(X)\n",
        "    X_bar_k = X_bar * np.ones(k)\n",
        "    X_k = np.append(X_bar_k ,X)\n",
        "    k_X = np.append(X, X_bar_k )\n",
        "    r= np.dot(X_k -X_bar , k_X - X_bar )\n",
        "    r/= np.linalg.norm(X-X_bar)**2\n",
        "    \n",
        "    return r"
      ],
      "execution_count": 0,
      "outputs": []
    },
    {
      "cell_type": "code",
      "metadata": {
        "id": "yXiuB_e1DRFj",
        "colab_type": "code",
        "colab": {}
      },
      "source": [
        "#AR\n",
        "phi = 0.6\n",
        "epsilon = np.random.randn(200000)\n",
        "T=1000\n",
        "Y=np.zeros(T)\n",
        "for t in range(T):\n",
        "    Y[t]=phi*Y[t-1] +epsilon[t]"
      ],
      "execution_count": 0,
      "outputs": []
    },
    {
      "cell_type": "code",
      "metadata": {
        "id": "Ymy7hQkMoD1O",
        "colab_type": "code",
        "colab": {}
      },
      "source": [
        "def Pac(Y,k):\n",
        "    Y = pd.DataFrame(Y, columns=[\"y_t\"])\n",
        "    for i in range(k):\n",
        "        if i ==0:\n",
        "            Y[\"y_t-1\"] = Y[\"y_t\"].shift().fillna(0)\n",
        "        else:    \n",
        "            Y[\"y_t-\"+str(i+1)]=Y[\"y_t-\"+str(i)].shift().fillna(0)\n",
        "    X =Y.iloc[:,1:k-1]\n",
        "    y=Y.iloc[:,[0,k]]\n",
        "    beta = np.dot(np.dot(np.linalg.inv( np.dot(X.T , X) ) , X.T), y)\n",
        "    y_hat = np.dot(X, beta)\n",
        "    y_til = y - y_hat\n",
        "    S_Y =np.zeros((2,2))\n",
        "    for j in [0,1]:\n",
        "        Y_j =y_til.iloc[:,j] - np.mean(y_til.iloc[:,j])\n",
        "        for i in [0,1] :\n",
        "            Y_i =y_til.iloc[:,i] - np.mean(y_til.iloc[:,i])  \n",
        "            S_Y[j,i]=np.dot(Y_i, Y_j)\n",
        "    pac = S_Y[0,1]/np.sqrt(S_Y[0,0]*S_Y[1,1])\n",
        "    return pac\n",
        "\n",
        "    \n"
      ],
      "execution_count": 0,
      "outputs": []
    },
    {
      "cell_type": "code",
      "metadata": {
        "id": "zBA35kjVqfXN",
        "colab_type": "code",
        "colab": {}
      },
      "source": [
        "n=10\n",
        "pac=[]\n",
        "ac=[]\n",
        "for k in range(n):\n",
        "    pac=np.append(pac,Pac(Y,k+1))\n",
        "    ac = np.append(ac,autcor(Y,k+1))\n",
        "\n"
      ],
      "execution_count": 0,
      "outputs": []
    },
    {
      "cell_type": "code",
      "metadata": {
        "id": "D_fIV2Xvu8Nb",
        "colab_type": "code",
        "colab": {
          "base_uri": "https://localhost:8080/",
          "height": 284
        },
        "outputId": "c791bd57-7e87-4562-96bf-f9974331dc69"
      },
      "source": [
        "plt.plot(pac, label=\"PAC\")\n",
        "plt.plot(ac,label=\"AC\")\n",
        "plt.legend()\n",
        "plt.title(\"AC and PAC of AR(1)\")\n",
        "plt.savefig(\"AR_AC_PAC.png\")"
      ],
      "execution_count": 33,
      "outputs": [
        {
          "output_type": "display_data",
          "data": {
            "image/png": "[encoded data removed]",
            "text/plain": [
              "<Figure size 432x288 with 1 Axes>"
            ]
          },
          "metadata": {
            "tags": []
          }
        }
      ]
    },
    {
      "cell_type": "markdown",
      "metadata": {
        "id": "zLUkg6DyxzOI",
        "colab_type": "text"
      },
      "source": [
        "# MA"
      ]
    },
    {
      "cell_type": "code",
      "metadata": {
        "id": "4-TIS9uq23GD",
        "colab_type": "code",
        "colab": {}
      },
      "source": [
        "theta =0.6\n",
        "T=1000\n",
        "epsilon = np.random.randn(100000)"
      ],
      "execution_count": 0,
      "outputs": []
    },
    {
      "cell_type": "code",
      "metadata": {
        "id": "GsHCoPBxZqFe",
        "colab_type": "code",
        "colab": {}
      },
      "source": [
        "Y = np.zeros(T+1)\n",
        "for i in range(1,T):\n",
        "    Y[i] = epsilon[i] + theta*epsilon[i-1]"
      ],
      "execution_count": 0,
      "outputs": []
    },
    {
      "cell_type": "code",
      "metadata": {
        "colab_type": "code",
        "id": "WSa9WyzxygtK",
        "colab": {}
      },
      "source": [
        "n=30\n",
        "pac=[]\n",
        "ac=[]\n",
        "for k in range(n):\n",
        "    pac=np.append(pac,Pac(Y,k+1))\n",
        "    ac = np.append(ac,autcor(Y,k+1))"
      ],
      "execution_count": 0,
      "outputs": []
    },
    {
      "cell_type": "code",
      "metadata": {
        "colab_type": "code",
        "outputId": "4b3a23a8-ad9f-427c-d321-735886c7998c",
        "id": "LzDVcDxhygtP",
        "colab": {
          "base_uri": "https://localhost:8080/",
          "height": 284
        }
      },
      "source": [
        "plt.plot(pac, label=\"PAC\")\n",
        "plt.plot(ac,label=\"AC\")\n",
        "plt.legend()\n",
        "plt.title(\"AC and PAC of MA(1)\")\n",
        "plt.savefig(\"MA_AC_PAC.png\")"
      ],
      "execution_count": 48,
      "outputs": [
        {
          "output_type": "display_data",
          "data": {
            "image/png": "[encoded data removed]",
            "text/plain": [
              "<Figure size 432x288 with 1 Axes>"
            ]
          },
          "metadata": {
            "tags": []
          }
        }
      ]
    }
  ]
}