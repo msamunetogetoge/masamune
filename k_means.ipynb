{
  "nbformat": 4,
  "nbformat_minor": 0,
  "metadata": {
    "colab": {
      "name": "k-means.ipynb",
      "provenance": [],
      "collapsed_sections": [
        "U2h4G-AIrGQL",
        "3HbCmBT6rKcG"
      ],
      "toc_visible": true,
      "authorship_tag": "ABX9TyOSYWXBBjSHgrbqQeUzcj0c",
      "include_colab_link": true
    },
    "kernelspec": {
      "name": "python3",
      "display_name": "Python 3"
    }
  },
  "cells": [
    {
      "cell_type": "markdown",
      "metadata": {
        "id": "view-in-github",
        "colab_type": "text"
      },
      "source": [
        "<a href=\"https://colab.research.google.com/github/msamunetogetoge/masamune/blob/master/k_means.ipynb\" target=\"_parent\"><img src=\"https://colab.research.google.com/assets/colab-badge.svg\" alt=\"Open In Colab\"/></a>"
      ]
    },
    {
      "cell_type": "markdown",
      "metadata": {
        "id": "IQdC95h2rBGA",
        "colab_type": "text"
      },
      "source": [
        "# K-means法"
      ]
    },
    {
      "cell_type": "markdown",
      "metadata": {
        "id": "U2h4G-AIrGQL",
        "colab_type": "text"
      },
      "source": [
        "# データなどの準備"
      ]
    },
    {
      "cell_type": "code",
      "metadata": {
        "id": "1aRRYQUO7UMl",
        "colab_type": "code",
        "outputId": "46ffa2cb-4a99-4a0a-842e-a2307e490a2d",
        "colab": {
          "base_uri": "https://localhost:8080/",
          "height": 52
        }
      },
      "source": [
        "import numpy as np\n",
        "import pandas as pd\n",
        "import matplotlib.pyplot as plt\n",
        "import seaborn as sns\n",
        "sns.set()"
      ],
      "execution_count": 2,
      "outputs": [
        {
          "output_type": "stream",
          "text": [
            "/usr/local/lib/python3.6/dist-packages/statsmodels/tools/_testing.py:19: FutureWarning: pandas.util.testing is deprecated. Use the functions in the public API at pandas.testing instead.\n",
            "  import pandas.util.testing as tm\n"
          ],
          "name": "stderr"
        }
      ]
    },
    {
      "cell_type": "code",
      "metadata": {
        "id": "yZCBBwQf_9cY",
        "colab_type": "code",
        "colab": {}
      },
      "source": [
        "from sklearn.datasets import load_iris\n",
        "iris = load_iris()"
      ],
      "execution_count": 0,
      "outputs": []
    },
    {
      "cell_type": "code",
      "metadata": {
        "id": "0TmudHeOX4-S",
        "colab_type": "code",
        "colab": {}
      },
      "source": [
        "X=pd.DataFrame(iris.data, columns=iris.feature_names)\n",
        "means=X.mean()\n",
        "sd =X.std()\n",
        "X_ = (X-means)/sd\n",
        "y=pd.Series(iris.target)"
      ],
      "execution_count": 0,
      "outputs": []
    },
    {
      "cell_type": "code",
      "metadata": {
        "id": "n7EwQsb7X5kQ",
        "colab_type": "code",
        "outputId": "a72109a2-ac4b-4612-a2e1-d1273c4c6649",
        "colab": {
          "base_uri": "https://localhost:8080/",
          "height": 197
        }
      },
      "source": [
        "X.head()"
      ],
      "execution_count": 0,
      "outputs": [
        {
          "output_type": "execute_result",
          "data": {
            "text/html": [
              "<div>\n",
              "<style scoped>\n",
              "    .dataframe tbody tr th:only-of-type {\n",
              "        vertical-align: middle;\n",
              "    }\n",
              "\n",
              "    .dataframe tbody tr th {\n",
              "        vertical-align: top;\n",
              "    }\n",
              "\n",
              "    .dataframe thead th {\n",
              "        text-align: right;\n",
              "    }\n",
              "</style>\n",
              "<table border=\"1\" class=\"dataframe\">\n",
              "  <thead>\n",
              "    <tr style=\"text-align: right;\">\n",
              "      <th></th>\n",
              "      <th>sepal length (cm)</th>\n",
              "      <th>sepal width (cm)</th>\n",
              "      <th>petal length (cm)</th>\n",
              "      <th>petal width (cm)</th>\n",
              "    </tr>\n",
              "  </thead>\n",
              "  <tbody>\n",
              "    <tr>\n",
              "      <th>0</th>\n",
              "      <td>5.1</td>\n",
              "      <td>3.5</td>\n",
              "      <td>1.4</td>\n",
              "      <td>0.2</td>\n",
              "    </tr>\n",
              "    <tr>\n",
              "      <th>1</th>\n",
              "      <td>4.9</td>\n",
              "      <td>3.0</td>\n",
              "      <td>1.4</td>\n",
              "      <td>0.2</td>\n",
              "    </tr>\n",
              "    <tr>\n",
              "      <th>2</th>\n",
              "      <td>4.7</td>\n",
              "      <td>3.2</td>\n",
              "      <td>1.3</td>\n",
              "      <td>0.2</td>\n",
              "    </tr>\n",
              "    <tr>\n",
              "      <th>3</th>\n",
              "      <td>4.6</td>\n",
              "      <td>3.1</td>\n",
              "      <td>1.5</td>\n",
              "      <td>0.2</td>\n",
              "    </tr>\n",
              "    <tr>\n",
              "      <th>4</th>\n",
              "      <td>5.0</td>\n",
              "      <td>3.6</td>\n",
              "      <td>1.4</td>\n",
              "      <td>0.2</td>\n",
              "    </tr>\n",
              "  </tbody>\n",
              "</table>\n",
              "</div>"
            ],
            "text/plain": [
              "   sepal length (cm)  sepal width (cm)  petal length (cm)  petal width (cm)\n",
              "0                5.1               3.5                1.4               0.2\n",
              "1                4.9               3.0                1.4               0.2\n",
              "2                4.7               3.2                1.3               0.2\n",
              "3                4.6               3.1                1.5               0.2\n",
              "4                5.0               3.6                1.4               0.2"
            ]
          },
          "metadata": {
            "tags": []
          },
          "execution_count": 256
        }
      ]
    },
    {
      "cell_type": "code",
      "metadata": {
        "id": "9h89H-h8hFy7",
        "colab_type": "code",
        "colab": {
          "base_uri": "https://localhost:8080/",
          "height": 284
        },
        "outputId": "7c3a2aba-0fbc-4135-ab23-24f7167e71c3"
      },
      "source": [
        "x1=\"sepal width (cm)\"\n",
        "x2 =\"petal length (cm)\"\n",
        "for k in range(3):\n",
        "    X_0=X[y==k]\n",
        "    sns.scatterplot(x=x1,y=x2,data=X_0,label=\"label {}\".format(k))\n",
        "plt.legend()\n",
        "plt.savefig(\"iris_namay.png\")"
      ],
      "execution_count": 7,
      "outputs": [
        {
          "output_type": "display_data",
          "data": {
            "image/png": "[encoded data removed]",
            "text/plain": [
              "<Figure size 432x288 with 1 Axes>"
            ]
          },
          "metadata": {
            "tags": []
          }
        }
      ]
    },
    {
      "cell_type": "markdown",
      "metadata": {
        "id": "3HbCmBT6rKcG",
        "colab_type": "text"
      },
      "source": [
        "# クラスの実装"
      ]
    },
    {
      "cell_type": "code",
      "metadata": {
        "id": "LJByIFNIkAhi",
        "colab_type": "code",
        "colab": {}
      },
      "source": [
        "class Kmeans:\n",
        "    def __init__(self,K,X):\n",
        "        np.random.seed(1)\n",
        "        self.X=X\n",
        "        self.K=K\n",
        "        self.N=len(X)\n",
        "        self.K_n = np.zeros((len(X),K))\n",
        "        self.J=np.zeros_like(self.K_n)\n",
        "        for i in range(len(X)):\n",
        "            a=np.random.randint(0,K)\n",
        "            self.K_n[i,a]=1\n",
        "        self.mu=(np.dot(self.X.T, self.K_n)/np.sum(self.K_n, axis=0)).T\n",
        "        self.J_all=np.array([])        \n",
        "\n",
        "    def classfication(self):\n",
        "        self.J=np.zeros((self.N, self.K))\n",
        "        self.K_n = np.zeros((self.N, self.K))\n",
        "        for i in range(self.N):\n",
        "            for k in range(self.K):\n",
        "                self.J[i,k]=np.linalg.norm(self.X.iloc[i,:]-self.mu[k,:])**2\n",
        "            k_n=np.argmin(self.J[i,:])\n",
        "            self.K_n[i,k_n]=1\n",
        "        self.mu=(np.dot(self.X.T,self.K_n)/np.sum(self.K_n,axis=0)).T\n",
        "        self.J_all=np.append(self.J_all, np.sum(self.J))\n",
        "\n",
        "    def calc(self,iter):\n",
        "        for i in range(iter):\n",
        "            self.classfication()\n",
        "        self.result={\"class\":self.K_n, \"loss\":self.J_all}\n",
        "        return self.result\n",
        "\n",
        "    def plot_loss(self):\n",
        "        plt.plot(self.J_all)\n",
        "    \n",
        "    def plot_class(self):\n",
        "        Mu = pd.DataFrame(self.mu , columns=self.X.columns )\n",
        "        x1=\"sepal width (cm)\"\n",
        "        x2 =\"petal length (cm)\"\n",
        "        for k in range(self.K):\n",
        "            X_0=self.X[self.K_n[:,k] ==1]\n",
        "            sns.scatterplot(x=x1,y=x2,data=X_0,label=\"label {}\".format(k))\n",
        "        sns.scatterplot(x=x1,y=x2,s=300,marker=\"*\", data=Mu, label=\"center\" )\n",
        "        plt.legend()\n",
        "        plt.savefig(\"iris_class.png\")"
      ],
      "execution_count": 0,
      "outputs": []
    },
    {
      "cell_type": "code",
      "metadata": {
        "id": "1G-snsNCfpY9",
        "colab_type": "code",
        "colab": {}
      },
      "source": [
        "iris_class=Kmeans(K=3,X=X)"
      ],
      "execution_count": 0,
      "outputs": []
    },
    {
      "cell_type": "code",
      "metadata": {
        "id": "KukzwRRsrt_o",
        "colab_type": "code",
        "outputId": "629fe427-65a2-4785-a0a0-f8c85b55438c",
        "colab": {
          "base_uri": "https://localhost:8080/",
          "height": 284
        }
      },
      "source": [
        "iris_class.calc(iter=5)\n",
        "iris_class.plot_class()\n"
      ],
      "execution_count": 14,
      "outputs": [
        {
          "output_type": "display_data",
          "data": {
            "image/png": "[encoded data removed]",
            "text/plain": [
              "<Figure size 432x288 with 1 Axes>"
            ]
          },
          "metadata": {
            "tags": []
          }
        }
      ]
    }
  ]
}