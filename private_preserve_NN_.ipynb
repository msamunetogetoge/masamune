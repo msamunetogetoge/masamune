{
  "nbformat": 4,
  "nbformat_minor": 0,
  "metadata": {
    "kernelspec": {
      "display_name": "Python 3",
      "language": "python",
      "name": "python3"
    },
    "language_info": {
      "codemirror_mode": {
        "name": "ipython",
        "version": 3
      },
      "file_extension": ".py",
      "mimetype": "text/x-python",
      "name": "python",
      "nbconvert_exporter": "python",
      "pygments_lexer": "ipython3",
      "version": "3.7.1"
    },
    "colab": {
      "name": "private_preserve_NN .ipynb ",
      "provenance": [],
      "include_colab_link": true
    }
  },
  "cells": [
    {
      "cell_type": "markdown",
      "metadata": {
        "id": "view-in-github",
        "colab_type": "text"
      },
      "source": [
        "<a href=\"https://colab.research.google.com/github/msamunetogetoge/masamune/blob/master/private_preserve_NN_.ipynb\" target=\"_parent\"><img src=\"https://colab.research.google.com/assets/colab-badge.svg\" alt=\"Open In Colab\"/></a>"
      ]
    },
    {
      "cell_type": "markdown",
      "metadata": {
        "id": "X8y1Mb2p4NzW",
        "colab_type": "text"
      },
      "source": [
        "# 勾配情報から特徴量を復元する"
      ]
    },
    {
      "cell_type": "code",
      "metadata": {
        "id": "zEF31OGM16ao",
        "colab_type": "code",
        "colab": {}
      },
      "source": [
        "import tensorflow as tf\n",
        "from tensorflow import keras"
      ],
      "execution_count": 0,
      "outputs": []
    },
    {
      "cell_type": "code",
      "metadata": {
        "id": "j6r42Svw16ar",
        "colab_type": "code",
        "colab": {}
      },
      "source": [
        "import numpy as np\n",
        "import matplotlib.pyplot as plt\n",
        "import pandas as pd\n",
        "from sklearn.preprocessing import OneHotEncoder\n",
        "import seaborn as sns\n",
        "sns.set()"
      ],
      "execution_count": 0,
      "outputs": []
    },
    {
      "cell_type": "code",
      "metadata": {
        "id": "7G0zP4Mi16at",
        "colab_type": "code",
        "colab": {}
      },
      "source": [
        "def relu(x):\n",
        "    return np.maximum(0, x)\n",
        "\n",
        "def relu_grad(x):\n",
        "    grad = np.zeros(x.size).reshape(x.shape)\n",
        "    grad[x>=0] = 1\n",
        "    \n",
        "    return grad\n",
        "\n",
        "def softmax(x):\n",
        "    if x.ndim == 2:\n",
        "        x = x.T\n",
        "        x = x - np.max(x, axis=0)\n",
        "        y = np.exp(x) / np.sum(np.exp(x), axis=0)\n",
        "        return y.T \n",
        "\n",
        "    x = x - np.max(x) # オーバーフロー対策\n",
        "    return np.exp(x) / np.sum(np.exp(x))\n",
        "\n",
        "def cross_entropy_error(y, t):\n",
        "    if y.ndim == 1:\n",
        "        t = t.reshape(1, t.size)\n",
        "        y = y.reshape(1, y.size)\n",
        "        \n",
        "    # 教師データがone-hot-vectorの場合、正解ラベルのインデックスに変換\n",
        "    if t.size == y.size:\n",
        "        t = t.argmax(axis=1)\n",
        "   \n",
        "    return -np.sum(np.log(y[np.arange(y.shape[0]), t] + 1e-7)) / y.shape[0]"
      ],
      "execution_count": 0,
      "outputs": []
    },
    {
      "cell_type": "code",
      "metadata": {
        "id": "UI2SRa5E16av",
        "colab_type": "code",
        "colab": {}
      },
      "source": [
        "fashion_mnist = keras.datasets.fashion_mnist\n",
        "\n",
        "(train_images, train_labels), (test_images, test_labels) = fashion_mnist.load_data()"
      ],
      "execution_count": 0,
      "outputs": []
    },
    {
      "cell_type": "code",
      "metadata": {
        "id": "KHlmJC7R16ay",
        "colab_type": "code",
        "colab": {}
      },
      "source": [
        "train_images = train_images / 255.0\n",
        "\n",
        "test_images = test_images / 255.0\n",
        "train_images = train_images.flatten().reshape(-1,784)\n",
        "test_images = test_images.flatten().reshape(-1,784)"
      ],
      "execution_count": 0,
      "outputs": []
    },
    {
      "cell_type": "code",
      "metadata": {
        "id": "bqGwzUoG16a0",
        "colab_type": "code",
        "outputId": "177f920c-0261-4716-8caf-be8acbf716c4",
        "colab": {
          "base_uri": "https://localhost:8080/",
          "height": 178
        }
      },
      "source": [
        "ohe = OneHotEncoder( sparse=False)\n",
        "train_labels = ohe.fit_transform(train_labels.reshape(-1,1))\n",
        "test_labels = ohe.fit_transform(test_labels.reshape(-1,1))"
      ],
      "execution_count": 17,
      "outputs": [
        {
          "output_type": "stream",
          "text": [
            "/usr/local/lib/python3.6/dist-packages/sklearn/preprocessing/_encoders.py:415: FutureWarning: The handling of integer data will change in version 0.22. Currently, the categories are determined based on the range [0, max(values)], while in the future they will be determined based on the unique values.\n",
            "If you want the future behaviour and silence this warning, you can specify \"categories='auto'\".\n",
            "In case you used a LabelEncoder before this OneHotEncoder to convert the categories to integers, then you can now use the OneHotEncoder directly.\n",
            "  warnings.warn(msg, FutureWarning)\n",
            "/usr/local/lib/python3.6/dist-packages/sklearn/preprocessing/_encoders.py:415: FutureWarning: The handling of integer data will change in version 0.22. Currently, the categories are determined based on the range [0, max(values)], while in the future they will be determined based on the unique values.\n",
            "If you want the future behaviour and silence this warning, you can specify \"categories='auto'\".\n",
            "In case you used a LabelEncoder before this OneHotEncoder to convert the categories to integers, then you can now use the OneHotEncoder directly.\n",
            "  warnings.warn(msg, FutureWarning)\n"
          ],
          "name": "stderr"
        }
      ]
    },
    {
      "cell_type": "code",
      "metadata": {
        "id": "lib35StG16a2",
        "colab_type": "code",
        "colab": {}
      },
      "source": [
        "class TwoLayerNet:\n",
        "\n",
        "    def __init__(self, input_size, hidden_size, output_size, weight_init_std=0.01):\n",
        "        self.params = {}\n",
        "        self.params['W1'] = weight_init_std * np.random.randn(input_size, hidden_size)\n",
        "        self.params['b1'] = np.zeros(hidden_size)\n",
        "        self.params['W2'] = weight_init_std * np.random.randn(hidden_size, output_size)\n",
        "        self.params['b2'] = np.zeros(output_size)\n",
        "\n",
        "    def predict(self, x):\n",
        "        W1, W2 = self.params['W1'], self.params['W2']\n",
        "        b1, b2 = self.params['b1'], self.params['b2']\n",
        "    \n",
        "        a1 = np.dot(x, W1) + b1\n",
        "        z1 = relu(a1)\n",
        "        a2 = np.dot(z1, W2) + b2\n",
        "        y = softmax(a2)\n",
        "        \n",
        "        return y\n",
        "    def accuracy(self, x, t):\n",
        "        y = self.predict(x)\n",
        "        y = np.argmax(y, axis=1)\n",
        "        t = np.argmax(t, axis=1) #tをone hot encording からラベルに戻す \n",
        "        accuracy = np.sum(y == t) / float(x.shape[0])\n",
        "        return accuracy\n",
        "    def gradient(self, x, t):\n",
        "        W1, W2 = self.params['W1'], self.params['W2']\n",
        "        b1, b2 = self.params['b1'], self.params['b2']\n",
        "        grads = {}\n",
        "        \n",
        "        \n",
        "        #  予測値の計算 (predict と同じ )\n",
        "        a1 = np.dot(x, W1) + b1\n",
        "        z1 = relu(a1)\n",
        "        a2 = np.dot(z1, W2) +b2\n",
        "        y = softmax(a2)\n",
        "        \n",
        "        # 各ノードでの微分の計算。出力側から順々に計算する \n",
        "        batch_num = y.shape[0]\n",
        "        dy = (y - t )/ batch_num\n",
        "        grads['W2'] = np.dot(z1.T, dy)\n",
        "        grads['b2'] = np.sum(dy,axis=0)\n",
        "        \n",
        "        dz1 = np.dot(dy, W2.T)\n",
        "        da1 = relu_grad(a1) * dz1\n",
        "        grads['W1'] = np.dot(x.T, da1)\n",
        "        grads['b1'] = np.sum(da1,axis=0)\n",
        "\n",
        "        return grads\n",
        "    \n",
        "    def loss(self, x, t):\n",
        "        y = self.predict(x)\n",
        "        \n",
        "        return cross_entropy_error(y,t)"
      ],
      "execution_count": 0,
      "outputs": []
    },
    {
      "cell_type": "code",
      "metadata": {
        "id": "PlnSz5vD16a9",
        "colab_type": "code",
        "outputId": "640d6613-3902-49f3-cabe-4716e0d0841d",
        "colab": {
          "base_uri": "https://localhost:8080/",
          "height": 923
        }
      },
      "source": [
        "network =TwoLayerNet(input_size=784, hidden_size=64 , output_size=10)\n",
        "train_size = train_images.shape[0]\n",
        "batch_size = 100\n",
        "iter_num = 5000\n",
        "learning_rate =0.1\n",
        "\n",
        "loss_list = []\n",
        "train_acc_list = []\n",
        "test_acc_list = []\n",
        "grad_list = []\n",
        "iter_per_epoch = 100\n",
        "\n",
        "for i in np.arange(iter_num):\n",
        "    batch_mask = np.random.choice(train_size , batch_size)\n",
        "    x_batch = train_images[batch_mask]\n",
        "    t_batch = train_labels[batch_mask]\n",
        "    grad = network.gradient(x_batch, t_batch)\n",
        "    for key in ('W1', 'b1', 'W2', 'b2'):\n",
        "        network.params[key] -= learning_rate * grad[key]    \n",
        "\n",
        "    if i % iter_per_epoch == 0:\n",
        "        grad_list.append(np.linalg.norm(grad[\"b1\"]) )      \n",
        "        loss = network.loss(x_batch, t_batch)\n",
        "        loss_list.append(loss)\n",
        "        train_acc = network.accuracy(train_images, train_labels)\n",
        "        test_acc = network.accuracy(test_images, test_labels)\n",
        "        train_acc_list.append(train_acc)\n",
        "        test_acc_list.append(test_acc)\n",
        "        print(\"train acc, test acc | \" + str(train_acc) + \", \" + str(test_acc))\n",
        "print(\"Finish Caluculation\")\n"
      ],
      "execution_count": 34,
      "outputs": [
        {
          "output_type": "stream",
          "text": [
            "train acc, test acc | 0.14038333333333333, 0.138\n",
            "train acc, test acc | 0.6013, 0.5968\n",
            "train acc, test acc | 0.7079, 0.6954\n",
            "train acc, test acc | 0.7667833333333334, 0.7616\n",
            "train acc, test acc | 0.7674666666666666, 0.7561\n",
            "train acc, test acc | 0.8058166666666666, 0.7918\n",
            "train acc, test acc | 0.8216333333333333, 0.8107\n",
            "train acc, test acc | 0.8014, 0.789\n",
            "train acc, test acc | 0.8313166666666667, 0.8193\n",
            "train acc, test acc | 0.8348666666666666, 0.8229\n",
            "train acc, test acc | 0.8286, 0.8128\n",
            "train acc, test acc | 0.83955, 0.8263\n",
            "train acc, test acc | 0.8399833333333333, 0.8239\n",
            "train acc, test acc | 0.8449, 0.8313\n",
            "train acc, test acc | 0.8503833333333334, 0.8343\n",
            "train acc, test acc | 0.8297833333333333, 0.8176\n",
            "train acc, test acc | 0.8476666666666667, 0.8344\n",
            "train acc, test acc | 0.84635, 0.831\n",
            "train acc, test acc | 0.8543, 0.8414\n",
            "train acc, test acc | 0.8543, 0.8367\n",
            "train acc, test acc | 0.8551, 0.8397\n",
            "train acc, test acc | 0.8529333333333333, 0.8395\n",
            "train acc, test acc | 0.8582166666666666, 0.842\n",
            "train acc, test acc | 0.84845, 0.8369\n",
            "train acc, test acc | 0.85445, 0.8409\n",
            "train acc, test acc | 0.86355, 0.8484\n",
            "train acc, test acc | 0.8630833333333333, 0.8439\n",
            "train acc, test acc | 0.8641333333333333, 0.848\n",
            "train acc, test acc | 0.8630333333333333, 0.8484\n",
            "train acc, test acc | 0.8684833333333334, 0.8522\n",
            "train acc, test acc | 0.8681, 0.852\n",
            "train acc, test acc | 0.866, 0.8464\n",
            "train acc, test acc | 0.8665833333333334, 0.8511\n",
            "train acc, test acc | 0.8699333333333333, 0.8515\n",
            "train acc, test acc | 0.8726166666666667, 0.8557\n",
            "train acc, test acc | 0.8726666666666667, 0.854\n",
            "train acc, test acc | 0.85795, 0.8377\n",
            "train acc, test acc | 0.8756, 0.8586\n",
            "train acc, test acc | 0.8648166666666667, 0.8457\n",
            "train acc, test acc | 0.8767333333333334, 0.8583\n",
            "train acc, test acc | 0.8677833333333334, 0.8514\n",
            "train acc, test acc | 0.8758666666666667, 0.8555\n",
            "train acc, test acc | 0.87645, 0.8602\n",
            "train acc, test acc | 0.8718833333333333, 0.8533\n",
            "train acc, test acc | 0.8749166666666667, 0.8589\n",
            "train acc, test acc | 0.8784, 0.8576\n",
            "train acc, test acc | 0.8815, 0.8607\n",
            "train acc, test acc | 0.88225, 0.8628\n",
            "train acc, test acc | 0.8800666666666667, 0.8596\n",
            "train acc, test acc | 0.8816166666666667, 0.862\n",
            "Finish Caluculation\n"
          ],
          "name": "stdout"
        }
      ]
    },
    {
      "cell_type": "code",
      "metadata": {
        "id": "YPPcjOBIxXeh",
        "colab_type": "code",
        "colab": {}
      },
      "source": [
        "grads_list[0][\"W1\"][:,0]"
      ],
      "execution_count": 0,
      "outputs": []
    },
    {
      "cell_type": "code",
      "metadata": {
        "id": "Ig518WWWFEx9",
        "colab_type": "code",
        "outputId": "025e2be2-cef3-465a-a05f-cbed6aafa473",
        "colab": {
          "base_uri": "https://localhost:8080/",
          "height": 146
        }
      },
      "source": [
        "plt.figure(figsize=(20,10))\n",
        "for i in range(10):\n",
        "    im= grads_list[i][\"W1\"][:,0]/grads_list[i][\"b1\"][0] \n",
        "    im = im.reshape(28,28)\n",
        "    plt.subplot(1,10,1+i)\n",
        "    plt.imshow(im)\n",
        "    plt.savefig(\"from_grads.png\")"
      ],
      "execution_count": 45,
      "outputs": [
        {
          "output_type": "display_data",
          "data": {
            "image/png": "[encoded data removed]",
            "text/plain": [
              "<Figure size 1440x720 with 10 Axes>"
            ]
          },
          "metadata": {
            "tags": []
          }
        }
      ]
    },
    {
      "cell_type": "code",
      "metadata": {
        "id": "1aUYqqq6CJCm",
        "colab_type": "code",
        "outputId": "197014b2-a652-46e3-c3ac-fb8d4f01c869",
        "colab": {
          "base_uri": "https://localhost:8080/",
          "height": 267
        }
      },
      "source": [
        "plt.imshow(train_images[0].reshape(28,28))\n",
        "plt.savefig(\"real_feature.png\")"
      ],
      "execution_count": 22,
      "outputs": [
        {
          "output_type": "display_data",
          "data": {
            "image/png": "[encoded data removed]",
            "text/plain": [
              "<Figure size 432x288 with 1 Axes>"
            ]
          },
          "metadata": {
            "tags": []
          }
        }
      ]
    }
  ]
}