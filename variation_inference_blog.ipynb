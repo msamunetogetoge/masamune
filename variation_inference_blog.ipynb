{
  "nbformat": 4,
  "nbformat_minor": 0,
  "metadata": {
    "colab": {
      "name": "variation_inference_blog.ipynb ",
      "provenance": [],
      "collapsed_sections": [
        "L1xR_sGO3mTj",
        "V5aUdAQCLqVe"
      ],
      "toc_visible": true,
      "include_colab_link": true
    },
    "kernelspec": {
      "name": "python3",
      "display_name": "Python 3"
    }
  },
  "cells": [
    {
      "cell_type": "markdown",
      "metadata": {
        "id": "view-in-github",
        "colab_type": "text"
      },
      "source": [
        "<a href=\"https://colab.research.google.com/github/msamunetogetoge/masamune/blob/master/variation_inference_blog.ipynb\" target=\"_parent\"><img src=\"https://colab.research.google.com/assets/colab-badge.svg\" alt=\"Open In Colab\"/></a>"
      ]
    },
    {
      "cell_type": "code",
      "metadata": {
        "id": "8tBklRSlEsMw",
        "colab_type": "code",
        "colab": {}
      },
      "source": [
        "import numpy as np\n",
        "import matplotlib.pyplot as plt\n",
        "import seaborn as sns\n",
        "import pandas as pd\n",
        "from scipy.stats import poisson\n",
        "from scipy.special import psi"
      ],
      "execution_count": 0,
      "outputs": []
    },
    {
      "cell_type": "code",
      "metadata": {
        "id": "U9zlP73YPa06",
        "colab_type": "code",
        "colab": {
          "base_uri": "https://localhost:8080/",
          "height": 197
        },
        "outputId": "60fca3b2-248d-4d78-da84-41bc81078d3b"
      },
      "source": [
        "X=pd.read_csv(\"Analytics.csv\", encoding=\"SHIFT-JIS\")\n",
        "X.head()"
      ],
      "execution_count": 127,
      "outputs": [
        {
          "output_type": "execute_result",
          "data": {
            "text/html": [
              "<div>\n",
              "<style scoped>\n",
              "    .dataframe tbody tr th:only-of-type {\n",
              "        vertical-align: middle;\n",
              "    }\n",
              "\n",
              "    .dataframe tbody tr th {\n",
              "        vertical-align: top;\n",
              "    }\n",
              "\n",
              "    .dataframe thead th {\n",
              "        text-align: right;\n",
              "    }\n",
              "</style>\n",
              "<table border=\"1\" class=\"dataframe\">\n",
              "  <thead>\n",
              "    <tr style=\"text-align: right;\">\n",
              "      <th></th>\n",
              "      <th>ユーザー数</th>\n",
              "    </tr>\n",
              "  </thead>\n",
              "  <tbody>\n",
              "    <tr>\n",
              "      <th>0</th>\n",
              "      <td>20</td>\n",
              "    </tr>\n",
              "    <tr>\n",
              "      <th>1</th>\n",
              "      <td>18</td>\n",
              "    </tr>\n",
              "    <tr>\n",
              "      <th>2</th>\n",
              "      <td>21</td>\n",
              "    </tr>\n",
              "    <tr>\n",
              "      <th>3</th>\n",
              "      <td>14</td>\n",
              "    </tr>\n",
              "    <tr>\n",
              "      <th>4</th>\n",
              "      <td>7</td>\n",
              "    </tr>\n",
              "  </tbody>\n",
              "</table>\n",
              "</div>"
            ],
            "text/plain": [
              "   ユーザー数\n",
              "0     20\n",
              "1     18\n",
              "2     21\n",
              "3     14\n",
              "4      7"
            ]
          },
          "metadata": {
            "tags": []
          },
          "execution_count": 127
        }
      ]
    },
    {
      "cell_type": "markdown",
      "metadata": {
        "id": "1UyWw14-bUXI",
        "colab_type": "text"
      },
      "source": [
        "# ポアソン混合モデル"
      ]
    },
    {
      "cell_type": "markdown",
      "metadata": {
        "id": "opu26vZM5W1c",
        "colab_type": "text"
      },
      "source": [
        "計算するクラスを実装します。"
      ]
    },
    {
      "cell_type": "code",
      "metadata": {
        "id": "T6SDZmYfrVub",
        "colab_type": "code",
        "colab": {}
      },
      "source": [
        "class VI():\n",
        "    def __init__(self,x,a,b,pi):\n",
        "        self.x=x\n",
        "        self.a = a\n",
        "        self.b =b\n",
        "        self.N = len(self.x)\n",
        "        self.pi = np.zeros(self.N)\n",
        "        self.Tau =np.array([])\n",
        "\n",
        "    def Estep(self):\n",
        "        self.E_lam = self.a/self.b\n",
        "        self.E_loglam = psi(self.a) -np.log(self.b)\n",
        "        log_pi = np.zeros(self.N)\n",
        "        for i in range(self.N):\n",
        "            log_pi[i] =  np.sum(self.x[:i] *self.E_loglam[0]  - self.E_lam[0] ) + np.sum(self.x[i:]*self.E_loglam[1] - self.E_lam[1]  )\n",
        "        \n",
        "        log_pi-= np.max(log_pi)\n",
        "        self.pi = np.exp(log_pi)\n",
        "        self.pi /= np.sum(self.pi)    \n",
        "\n",
        "\n",
        "        return  self.pi\n",
        "\n",
        "    def Mstep( self):\n",
        "        self.pi =self.Estep()\n",
        "        self.E_d = np.zeros((2,self.N))\n",
        "        for i in range(self.N):  \n",
        "            self.E_d[0,i] = np.sum(pi[i+1:])\n",
        "            self.E_d[1,i] = np.sum(pi[:i+1])\n",
        "\n",
        "        a_hat =np.dot(self.x, self.E_d.T ) + self.a\n",
        "        b_hat = np.sum(self.E_d, axis=1) +self.b\n",
        "\n",
        "        return  a_hat , b_hat\n",
        "\n",
        "    \n",
        "    def itr_calc(self,max_itr ):\n",
        "        \n",
        "        for i in range(max_itr):\n",
        "            self.a,self.b = self.Mstep()\n",
        "            self.pi = self.Estep()\n",
        "            tau = np.argmax(self.pi)\n",
        "            self.Tau =np.append(self.Tau,tau)\n",
        "        \n",
        "        E_x =np.zeros(self.N)\n",
        "        for i in range( self.N):\n",
        "            if i< tau:\n",
        "                E_x[i] = (self.a/self.b)[0]\n",
        "            else :\n",
        "                E_x[i] = (self.a/self.b)[1]     \n",
        "\n",
        "\n",
        "        return self.pi, E_x\n",
        " "
      ],
      "execution_count": 0,
      "outputs": []
    },
    {
      "cell_type": "code",
      "metadata": {
        "id": "aH1WaHJC6iuV",
        "colab_type": "code",
        "colab": {}
      },
      "source": [
        "x=X[\"ユーザー数\"]"
      ],
      "execution_count": 0,
      "outputs": []
    },
    {
      "cell_type": "code",
      "metadata": {
        "colab_type": "code",
        "id": "VmK9ybHt6u9v",
        "colab": {}
      },
      "source": [
        "a=np.abs(np.random.randn(2))\n",
        "b=5*np.abs(np.random.randn(2))\n",
        "pi = (1/len(x))*np.ones(len(x))\n",
        "cal = VI(x=x, a=a, b=b, pi =pi )"
      ],
      "execution_count": 0,
      "outputs": []
    },
    {
      "cell_type": "code",
      "metadata": {
        "colab_type": "code",
        "id": "FVAb-Z156u9y",
        "colab": {}
      },
      "source": [
        "pi, E = cal.itr_calc( max_itr= 100)"
      ],
      "execution_count": 0,
      "outputs": []
    },
    {
      "cell_type": "code",
      "metadata": {
        "id": "HRo_BimpwkCS",
        "colab_type": "code",
        "outputId": "274e79c1-13e4-49c4-b5ad-dce5cbb845c4",
        "colab": {
          "base_uri": "https://localhost:8080/",
          "height": 281
        }
      },
      "source": [
        "plt.plot(E, color=\"r\", label=\"Expectation\")\n",
        "plt.bar(range(len(x)),x, label=\"Users \")\n",
        "plt.legend()\n",
        "plt.title(\"Expectation\")\n",
        "#plt.savefig(\"uservsE.png\")"
      ],
      "execution_count": 125,
      "outputs": [
        {
          "output_type": "display_data",
          "data": {
            "image/png": "[encoded data removed]",
            "text/plain": [
              "<Figure size 432x288 with 1 Axes>"
            ]
          },
          "metadata": {
            "tags": []
          }
        }
      ]
    },
    {
      "cell_type": "code",
      "metadata": {
        "id": "uY0JOCRlsQj9",
        "colab_type": "code",
        "colab": {
          "base_uri": "https://localhost:8080/",
          "height": 281
        },
        "outputId": "91612831-f033-4771-8f75-dd146097ff4d"
      },
      "source": [
        "fig, ax1 = plt.subplots()\n",
        "ax2 = ax1.twinx()\n",
        "ax1.bar(range(len(x)),x, label=\"Users \")\n",
        "ax2.plot(pi, c=\"r\", label = \"posterior probability\")\n",
        "\n",
        "handler1, label1 = ax1.get_legend_handles_labels()\n",
        "handler2, label2 = ax2.get_legend_handles_labels()\n",
        "\n",
        "ax1.legend(handler1 + handler2, label1 + label2)\n",
        "plt.title(\"posteriror probability\")\n",
        "#plt.savefig(\"probvsuser.png\")"
      ],
      "execution_count": 126,
      "outputs": [
        {
          "output_type": "display_data",
          "data": {
            "image/png": "[encoded data removed]",
            "text/plain": [
              "<Figure size 432x288 with 2 Axes>"
            ]
          },
          "metadata": {
            "tags": []
          }
        }
      ]
    }
  ]
}