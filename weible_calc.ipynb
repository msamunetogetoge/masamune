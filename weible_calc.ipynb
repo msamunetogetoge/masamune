{
  "nbformat": 4,
  "nbformat_minor": 0,
  "metadata": {
    "colab": {
      "name": "weible_calc.ipynb",
      "provenance": [],
      "mount_file_id": "13mXh19hjInmkCrfSG9rjKe8jVLuX8z8D",
      "authorship_tag": "ABX9TyM4dP4ca0S4XqDmbrrgDOf0",
      "include_colab_link": true
    },
    "kernelspec": {
      "name": "python3",
      "display_name": "Python 3"
    }
  },
  "cells": [
    {
      "cell_type": "markdown",
      "metadata": {
        "id": "view-in-github",
        "colab_type": "text"
      },
      "source": [
        "<a href=\"https://colab.research.google.com/github/msamunetogetoge/masamune/blob/master/weible_calc.ipynb\" target=\"_parent\"><img src=\"https://colab.research.google.com/assets/colab-badge.svg\" alt=\"Open In Colab\"/></a>"
      ]
    },
    {
      "cell_type": "markdown",
      "metadata": {
        "id": "MACJbUfdDgVc",
        "colab_type": "text"
      },
      "source": [
        "#データの準備"
      ]
    },
    {
      "cell_type": "code",
      "metadata": {
        "id": "Jr0xItvnNwMs",
        "colab_type": "code",
        "colab": {
          "base_uri": "https://localhost:8080/",
          "height": 52
        },
        "outputId": "30b8a423-7ea5-420b-893e-1219b0fa1e15"
      },
      "source": [
        "import numpy as np\n",
        "import pandas as pd\n",
        "import matplotlib.pyplot as plt \n",
        "import seaborn as sns\n",
        "import os"
      ],
      "execution_count": 1,
      "outputs": [
        {
          "output_type": "stream",
          "text": [
            "/usr/local/lib/python3.6/dist-packages/statsmodels/tools/_testing.py:19: FutureWarning: pandas.util.testing is deprecated. Use the functions in the public API at pandas.testing instead.\n",
            "  import pandas.util.testing as tm\n"
          ],
          "name": "stderr"
        }
      ]
    },
    {
      "cell_type": "code",
      "metadata": {
        "id": "JNK1QKx5NVS9",
        "colab_type": "code",
        "colab": {
          "base_uri": "https://localhost:8080/",
          "height": 158
        },
        "outputId": "0aebeca8-54ed-4a57-b307-8955d920710d"
      },
      "source": [
        "!pip install japanize-matplotlib\n"
      ],
      "execution_count": 2,
      "outputs": [
        {
          "output_type": "stream",
          "text": [
            "Requirement already satisfied: japanize-matplotlib in /usr/local/lib/python3.6/dist-packages (1.1.2)\n",
            "Requirement already satisfied: matplotlib in /usr/local/lib/python3.6/dist-packages (from japanize-matplotlib) (3.2.2)\n",
            "Requirement already satisfied: kiwisolver>=1.0.1 in /usr/local/lib/python3.6/dist-packages (from matplotlib->japanize-matplotlib) (1.2.0)\n",
            "Requirement already satisfied: cycler>=0.10 in /usr/local/lib/python3.6/dist-packages (from matplotlib->japanize-matplotlib) (0.10.0)\n",
            "Requirement already satisfied: numpy>=1.11 in /usr/local/lib/python3.6/dist-packages (from matplotlib->japanize-matplotlib) (1.18.5)\n",
            "Requirement already satisfied: python-dateutil>=2.1 in /usr/local/lib/python3.6/dist-packages (from matplotlib->japanize-matplotlib) (2.8.1)\n",
            "Requirement already satisfied: pyparsing!=2.0.4,!=2.1.2,!=2.1.6,>=2.0.1 in /usr/local/lib/python3.6/dist-packages (from matplotlib->japanize-matplotlib) (2.4.7)\n",
            "Requirement already satisfied: six in /usr/local/lib/python3.6/dist-packages (from cycler>=0.10->matplotlib->japanize-matplotlib) (1.12.0)\n"
          ],
          "name": "stdout"
        }
      ]
    },
    {
      "cell_type": "code",
      "metadata": {
        "id": "z51nyr39Nlqk",
        "colab_type": "code",
        "colab": {
          "base_uri": "https://localhost:8080/",
          "height": 70
        },
        "outputId": "9fc4971c-fa83-4bde-c7cb-3fda192e21a2"
      },
      "source": [
        "import japanize_matplotlib"
      ],
      "execution_count": 3,
      "outputs": [
        {
          "output_type": "stream",
          "text": [
            "/usr/local/lib/python3.6/dist-packages/japanize_matplotlib/japanize_matplotlib.py:15: MatplotlibDeprecationWarning: \n",
            "The createFontList function was deprecated in Matplotlib 3.2 and will be removed two minor releases later. Use FontManager.addfont instead.\n",
            "  font_list = font_manager.createFontList(font_files)\n"
          ],
          "name": "stderr"
        }
      ]
    },
    {
      "cell_type": "code",
      "metadata": {
        "id": "uonahhyTN-3y",
        "colab_type": "code",
        "colab": {
          "base_uri": "https://localhost:8080/",
          "height": 197
        },
        "outputId": "e5b4a819-2a17-44f0-d02c-4fd10b8553b1"
      },
      "source": [
        "df = pd.read_csv(\"wible_distlibution.csv\")\n",
        "df.head()"
      ],
      "execution_count": 5,
      "outputs": [
        {
          "output_type": "execute_result",
          "data": {
            "text/html": [
              "<div>\n",
              "<style scoped>\n",
              "    .dataframe tbody tr th:only-of-type {\n",
              "        vertical-align: middle;\n",
              "    }\n",
              "\n",
              "    .dataframe tbody tr th {\n",
              "        vertical-align: top;\n",
              "    }\n",
              "\n",
              "    .dataframe thead th {\n",
              "        text-align: right;\n",
              "    }\n",
              "</style>\n",
              "<table border=\"1\" class=\"dataframe\">\n",
              "  <thead>\n",
              "    <tr style=\"text-align: right;\">\n",
              "      <th></th>\n",
              "      <th>No</th>\n",
              "      <th>t</th>\n",
              "      <th>+</th>\n",
              "    </tr>\n",
              "  </thead>\n",
              "  <tbody>\n",
              "    <tr>\n",
              "      <th>0</th>\n",
              "      <td>1</td>\n",
              "      <td>450</td>\n",
              "      <td>NaN</td>\n",
              "    </tr>\n",
              "    <tr>\n",
              "      <th>1</th>\n",
              "      <td>2</td>\n",
              "      <td>460</td>\n",
              "      <td>+</td>\n",
              "    </tr>\n",
              "    <tr>\n",
              "      <th>2</th>\n",
              "      <td>3</td>\n",
              "      <td>1150</td>\n",
              "      <td>NaN</td>\n",
              "    </tr>\n",
              "    <tr>\n",
              "      <th>3</th>\n",
              "      <td>4</td>\n",
              "      <td>1150</td>\n",
              "      <td>NaN</td>\n",
              "    </tr>\n",
              "    <tr>\n",
              "      <th>4</th>\n",
              "      <td>5</td>\n",
              "      <td>1560</td>\n",
              "      <td>+</td>\n",
              "    </tr>\n",
              "  </tbody>\n",
              "</table>\n",
              "</div>"
            ],
            "text/plain": [
              "   No    t     +\n",
              "0   1   450  NaN\n",
              "1   2   460    +\n",
              "2   3  1150  NaN\n",
              "3   4  1150  NaN\n",
              "4   5  1560    +"
            ]
          },
          "metadata": {
            "tags": []
          },
          "execution_count": 5
        }
      ]
    },
    {
      "cell_type": "code",
      "metadata": {
        "id": "h9maO2HyM0JT",
        "colab_type": "code",
        "colab": {}
      },
      "source": [
        "df.columns = ['No', 't', '+']"
      ],
      "execution_count": 6,
      "outputs": []
    },
    {
      "cell_type": "code",
      "metadata": {
        "id": "iOCw9dd2Omo5",
        "colab_type": "code",
        "colab": {
          "base_uri": "https://localhost:8080/",
          "height": 293
        },
        "outputId": "0737887a-9d3a-47d4-d98a-7470d2171b30"
      },
      "source": [
        "sns.distplot(df['t'],kde=False)\n",
        "plt.title(\"使用データ\")\n",
        "plt.savefig(\"wible_data.png\")"
      ],
      "execution_count": 7,
      "outputs": [
        {
          "output_type": "display_data",
          "data": {
            "image/png": "[encoded data removed]",
            "text/plain": [
              "<Figure size 432x288 with 1 Axes>"
            ]
          },
          "metadata": {
            "tags": [],
            "needs_background": "light"
          }
        }
      ]
    },
    {
      "cell_type": "markdown",
      "metadata": {
        "id": "foUwkNcUDmAr",
        "colab_type": "text"
      },
      "source": [
        "# ワイブル分布の当てはめ"
      ]
    },
    {
      "cell_type": "code",
      "metadata": {
        "id": "8mXo8kuAMwms",
        "colab_type": "code",
        "colab": {}
      },
      "source": [
        "def weib(x,n,a):\n",
        "    return (a / n) * (x / n)**(a - 1) * np.exp(-(x / n)**a)\n"
      ],
      "execution_count": 8,
      "outputs": []
    },
    {
      "cell_type": "code",
      "metadata": {
        "id": "He9AqKGMS4Zl",
        "colab_type": "code",
        "colab": {}
      },
      "source": [
        "def likly_food(x,n,a):\n",
        "    return -np.sum(np.log(weib(x,n,a)))"
      ],
      "execution_count": 9,
      "outputs": []
    },
    {
      "cell_type": "code",
      "metadata": {
        "id": "mptExPygXupN",
        "colab_type": "code",
        "colab": {}
      },
      "source": [
        "lf_n = lambda n:likly_food(x,n,a)\n",
        "lf_a = lambda a:likly_food(x,n,a)"
      ],
      "execution_count": 10,
      "outputs": []
    },
    {
      "cell_type": "code",
      "metadata": {
        "id": "mI7TRRUvqPVV",
        "colab_type": "code",
        "colab": {
          "base_uri": "https://localhost:8080/",
          "height": 123
        },
        "outputId": "9354497e-256d-4ef0-a174-55c441703c32"
      },
      "source": [
        "h=1e-4\n",
        "n=1\n",
        "a=0.1\n",
        "eta=1e-6\n",
        "x=df[\"t\"]\n",
        "for i in range(10000):\n",
        "    LF_old=likly_food(x,n,a)\n",
        "    grad_n = (lf_n(n+h) - lf_n(n))/h\n",
        "    grad_a = (lf_a(a+h)-lf_a(a))/h\n",
        "    a+=eta*grad_n\n",
        "    n+=eta*grad_a\n",
        "    LF_new=likly_food(x,n,a)\n",
        "    if i%50==0 and LF_new>= LF_old :\n",
        "        print(i)\n",
        "        print(f\"a={a:.4f}\")\n",
        "        print(f\"n={n:.4f}\")\n",
        "        break\n",
        "        \n",
        "    if i%1000 ==0:\n",
        "        print(f\"LF is {LF_new:.5f}\")\n",
        "\n",
        "print(f\"a={a:.4f}\")\n",
        "print(f\"n={n:.4f}\")"
      ],
      "execution_count": 11,
      "outputs": [
        {
          "output_type": "stream",
          "text": [
            "LF is 844.51212\n",
            "400\n",
            "a=0.0965\n",
            "n=1.0113\n",
            "a=0.0965\n",
            "n=1.0113\n"
          ],
          "name": "stdout"
        }
      ]
    },
    {
      "cell_type": "markdown",
      "metadata": {
        "id": "v1OLMHqiDp-U",
        "colab_type": "text"
      },
      "source": [
        "# 解析"
      ]
    },
    {
      "cell_type": "code",
      "metadata": {
        "id": "4fvP0meZunR5",
        "colab_type": "code",
        "colab": {
          "base_uri": "https://localhost:8080/",
          "height": 281
        },
        "outputId": "7e2f5185-cd79-4204-c52a-2b5eab4c31ef"
      },
      "source": [
        "plt.plot(x, weib(x,n,a), label=\"確率密度関数\")\n",
        "plt.title(f\"確率密度関数関数 a={a:.3f}, n={n:.3f}\")\n",
        "plt.legend()\n",
        "plt.savefig(\"pdf_weib.png\")"
      ],
      "execution_count": 12,
      "outputs": [
        {
          "output_type": "display_data",
          "data": {
            "image/png": "[encoded data removed]",
            "text/plain": [
              "<Figure size 432x288 with 1 Axes>"
            ]
          },
          "metadata": {
            "tags": [],
            "needs_background": "light"
          }
        }
      ]
    },
    {
      "cell_type": "code",
      "metadata": {
        "id": "u3yd02CnuyH1",
        "colab_type": "code",
        "colab": {}
      },
      "source": [
        "def weib_accum(x, n,a):\n",
        "    return 1-np.exp(-(x/n)**a)"
      ],
      "execution_count": 13,
      "outputs": []
    },
    {
      "cell_type": "code",
      "metadata": {
        "id": "pFLvAMOK5Hlv",
        "colab_type": "code",
        "colab": {
          "base_uri": "https://localhost:8080/",
          "height": 280
        },
        "outputId": "29238938-c4a9-442b-9662-b3bc1e9e8938"
      },
      "source": [
        "plt.plot(x, weib_accum(x,n,a), label=\"累積分布関数\")\n",
        "plt.legend()\n",
        "plt.title(f\"累積分布関数 a={a:.3f}, n={n:.3f}\")\n",
        "plt.savefig(\"cdf_weib.png\")"
      ],
      "execution_count": 14,
      "outputs": [
        {
          "output_type": "display_data",
          "data": {
            "image/png": "[encoded data removed]",
            "text/plain": [
              "<Figure size 432x288 with 1 Axes>"
            ]
          },
          "metadata": {
            "tags": [],
            "needs_background": "light"
          }
        }
      ]
    },
    {
      "cell_type": "code",
      "metadata": {
        "id": "79snS2cXA_zw",
        "colab_type": "code",
        "colab": {
          "base_uri": "https://localhost:8080/",
          "height": 34
        },
        "outputId": "f3e7c523-57bd-4973-892c-fd7a4e8a85e1"
      },
      "source": [
        "X=np.linspace(1,10000,10000)\n",
        "for x in X:\n",
        "    if weib_accum(x,n,a)>0.9:\n",
        "        print(x)\n",
        "        break"
      ],
      "execution_count": 15,
      "outputs": [
        {
          "output_type": "stream",
          "text": [
            "5711.0\n"
          ],
          "name": "stdout"
        }
      ]
    },
    {
      "cell_type": "code",
      "metadata": {
        "id": "mq9G1ojWsYyB",
        "colab_type": "code",
        "colab": {}
      },
      "source": [
        "def hazard(x,n,a):\n",
        "    return (a/n)*x**(a-1)"
      ],
      "execution_count": 16,
      "outputs": []
    },
    {
      "cell_type": "code",
      "metadata": {
        "id": "_ig_rcWX7l2b",
        "colab_type": "code",
        "colab": {
          "base_uri": "https://localhost:8080/",
          "height": 280
        },
        "outputId": "8c5e92b9-bb04-4a5e-819b-0684e6226055"
      },
      "source": [
        "x=df[\"t\"]\n",
        "plt.plot(x, hazard(x,n,a), label=\"ハザード関数\")\n",
        "plt.legend()\n",
        "plt.title(f\"ハザード関数 a={a:.3f}, n={n:.3f}\")\n",
        "plt.savefig(\"hazard_weib.png\")"
      ],
      "execution_count": 21,
      "outputs": [
        {
          "output_type": "display_data",
          "data": {
            "image/png": "[encoded data removed]",
            "text/plain": [
              "<Figure size 432x288 with 1 Axes>"
            ]
          },
          "metadata": {
            "tags": [],
            "needs_background": "light"
          }
        }
      ]
    },
    {
      "cell_type": "code",
      "metadata": {
        "id": "w61xIYZuD6Lk",
        "colab_type": "code",
        "colab": {}
      },
      "source": [
        ""
      ],
      "execution_count": null,
      "outputs": []
    }
  ]
}