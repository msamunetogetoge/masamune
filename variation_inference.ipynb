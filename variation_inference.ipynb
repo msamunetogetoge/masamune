{
  "nbformat": 4,
  "nbformat_minor": 0,
  "metadata": {
    "colab": {
      "name": "variation_inference.ipynb",
      "provenance": [],
      "collapsed_sections": [
        "L1xR_sGO3mTj",
        "V5aUdAQCLqVe"
      ],
      "include_colab_link": true
    },
    "kernelspec": {
      "name": "python3",
      "display_name": "Python 3"
    }
  },
  "cells": [
    {
      "cell_type": "markdown",
      "metadata": {
        "id": "view-in-github",
        "colab_type": "text"
      },
      "source": [
        "<a href=\"https://colab.research.google.com/github/msamunetogetoge/masamune/blob/master/variation_inference.ipynb\" target=\"_parent\"><img src=\"https://colab.research.google.com/assets/colab-badge.svg\" alt=\"Open In Colab\"/></a>"
      ]
    },
    {
      "cell_type": "code",
      "metadata": {
        "id": "8tBklRSlEsMw",
        "colab_type": "code",
        "colab": {}
      },
      "source": [
        "import numpy as np\n",
        "import matplotlib.pyplot as plt\n",
        "import seaborn as sns\n",
        "import pandas as pd\n",
        "from scipy.stats import poisson\n",
        "from scipy.special import psi"
      ],
      "execution_count": 0,
      "outputs": []
    },
    {
      "cell_type": "markdown",
      "metadata": {
        "id": "1UyWw14-bUXI",
        "colab_type": "text"
      },
      "source": [
        "# ポアソン混合モデル"
      ]
    },
    {
      "cell_type": "markdown",
      "metadata": {
        "id": "opu26vZM5W1c",
        "colab_type": "text"
      },
      "source": [
        "ポアソン混合モデルを変分推論でフィッティングするクラスを作ります。"
      ]
    },
    {
      "cell_type": "code",
      "metadata": {
        "id": "T6SDZmYfrVub",
        "colab_type": "code",
        "colab": {}
      },
      "source": [
        "class VI():\n",
        "    def __init__(self,K,x,a,b,alpha):\n",
        "        self.K =K\n",
        "        self.x=x\n",
        "        self.a = a\n",
        "        self.b =b\n",
        "        self.alpha =alpha\n",
        "\n",
        "    def Estep(self):\n",
        "        self.E_lam = self.a/self.b\n",
        "        self.E_loglam = psi(self.a) -np.log(self.b)\n",
        "        self.E_logpi =psi(self.alpha) - psi(np.sum(self.alpha))\n",
        "        log_eta = np.dot(self.x.reshape(len(self.x), 1), self.E_loglam.reshape(1,self.K)) -self.E_lam + self.E_logpi\n",
        "        log_eta =log_eta.T-  np.max(log_eta, axis=1)\n",
        "        self.E_s = (np.exp(log_eta)/np.sum(np.exp(log_eta),axis=0 )).T\n",
        "        return  self.E_s    \n",
        "\n",
        "    def Mstep( self):\n",
        "        self.E_s =self.Estep()\n",
        "        a_hat =np.dot(self.x, self.E_s ) + self.a\n",
        "        b_hat = np.sum(self.E_s, axis=0) +self.b\n",
        "        alpha_hat = np.sum(self.E_s,axis=0)+self.alpha\n",
        "        return  a_hat , b_hat, alpha_hat\n",
        "\n",
        "    \n",
        "    def itr_calc(self,max_itr ):\n",
        "        A=np.zeros((self.K,max_itr))\n",
        "        B=np.zeros((self.K,max_itr))\n",
        "        for i in range(max_itr):\n",
        "            self.a,self.b,self.alpha = self.Mstep()\n",
        "            A[:,i]=self.a\n",
        "            B[:,i]=self.b\n",
        "        Lam = A/B\n",
        "        lam = self.a / self.b\n",
        "        self.E_pi = self.alpha/np.sum\n",
        "\n",
        "        return lam, Lam \n",
        " "
      ],
      "execution_count": 0,
      "outputs": []
    },
    {
      "cell_type": "code",
      "metadata": {
        "id": "aH1WaHJC6iuV",
        "colab_type": "code",
        "colab": {}
      },
      "source": [
        "x1 = np.random.poisson(lam=3, size=700)\n",
        "x2= np.random.poisson(lam=15, size=300)\n",
        "x=np.append(x1,x2)"
      ],
      "execution_count": 0,
      "outputs": []
    },
    {
      "cell_type": "code",
      "metadata": {
        "colab_type": "code",
        "id": "VmK9ybHt6u9v",
        "colab": {}
      },
      "source": [
        "K=2\n",
        "a=np.abs(np.random.randn(K))\n",
        "b=5*np.abs(np.random.randn(K))\n",
        "alpha = np.abs(np.random.randn(K))\n",
        "cal = VI(K=K, x=x, a=a, b=b, alpha=alpha)"
      ],
      "execution_count": 0,
      "outputs": []
    },
    {
      "cell_type": "code",
      "metadata": {
        "colab_type": "code",
        "id": "FVAb-Z156u9y",
        "colab": {}
      },
      "source": [
        "lam,Lam, E = cal.itr_calc( max_itr= 1000)"
      ],
      "execution_count": 0,
      "outputs": []
    },
    {
      "cell_type": "code",
      "metadata": {
        "id": "HRo_BimpwkCS",
        "colab_type": "code",
        "colab": {
          "base_uri": "https://localhost:8080/",
          "height": 52
        },
        "outputId": "7a87b233-c1c7-429c-d925-72c2012b3d28"
      },
      "source": [
        "print(lam)\n",
        "print(cal.E_pi)"
      ],
      "execution_count": 179,
      "outputs": [
        {
          "output_type": "stream",
          "text": [
            "[ 2.90780907 14.82726769]\n",
            "[0.69099361 0.30900639]\n"
          ],
          "name": "stdout"
        }
      ]
    },
    {
      "cell_type": "markdown",
      "metadata": {
        "id": "dObaExhb8EMX",
        "colab_type": "text"
      },
      "source": [
        "良い感じです"
      ]
    },
    {
      "cell_type": "code",
      "metadata": {
        "id": "neJb-iUZ6sOv",
        "colab_type": "code",
        "colab": {
          "base_uri": "https://localhost:8080/",
          "height": 281
        },
        "outputId": "cee0ba3c-ace2-4943-838e-4a0edfddd503"
      },
      "source": [
        "y0= np.random.poisson(lam=lam[0], size=680)\n",
        "y1= np.random.poisson(lam=lam[1], size=320)\n",
        "y=np.append(y0,y1)\n",
        "sns.distplot(y, kde=False, label=\"predict\")\n",
        "sns.distplot(x, kde=False, label=\"original\")\n",
        "plt.legend()\n",
        "plt.title(\"predicted by variational inference\")\n",
        "plt.savefig(\"originalvs_predict.png\")"
      ],
      "execution_count": 52,
      "outputs": [
        {
          "output_type": "display_data",
          "data": {
            "image/png": "[encoded data removed]",
            "text/plain": [
              "<Figure size 432x288 with 1 Axes>"
            ]
          },
          "metadata": {
            "tags": []
          }
        }
      ]
    },
    {
      "cell_type": "code",
      "metadata": {
        "colab_type": "code",
        "outputId": "cbdc65a6-dee6-4cd1-93b9-179280f80009",
        "id": "aSGwhhWo6u90",
        "colab": {
          "base_uri": "https://localhost:8080/",
          "height": 212
        }
      },
      "source": [
        "plt.figure(figsize=(8,3))\n",
        "plt.subplot(1,2,1)\n",
        "plt.plot(Lam[0])\n",
        "plt.subplot(1,2,2)\n",
        "plt.plot(Lam[1])\n",
        "plt.savefig(\"conv_lambda.png\")"
      ],
      "execution_count": 180,
      "outputs": [
        {
          "output_type": "display_data",
          "data": {
            "image/png": "[encoded data removed]",
            "text/plain": [
              "<Figure size 576x216 with 2 Axes>"
            ]
          },
          "metadata": {
            "tags": []
          }
        }
      ]
    },
    {
      "cell_type": "markdown",
      "metadata": {
        "id": "6hFqh7Gy8HzL",
        "colab_type": "text"
      },
      "source": [
        "λが収束していることは分かりますが、1000回も計算する必要はなさそうです。elboを監視して、途中で計算を止めるようにします。"
      ]
    },
    {
      "cell_type": "code",
      "metadata": {
        "colab_type": "code",
        "id": "ZdlqsWKv5tlb",
        "colab": {}
      },
      "source": [
        "class EM_like_VI(VI):\n",
        "    def Elbo(self):\n",
        "        a_hat , b_hat, alpha_hat = self.Mstep()\n",
        "        pi = np.random.dirichlet(self.alpha , size=1)\n",
        "        self.E_pi = pi/np.sum(pi)\n",
        "        E_1 = np.dot(self.x.reshape(len(self.x), 1), self.E_loglam.reshape(1,self.K)) -self.E_lam \n",
        "        E_1 = np.sum(np.sum(E_1*self.E_s, axis=1))\n",
        "\n",
        "        E_2 = np.sum(np.dot(self.E_s, self.E_logpi))\n",
        "\n",
        "        E_3 = np.sum(np.dot(self.E_s, pi.T ))\n",
        "\n",
        "        E_4 = np.sum((a_hat - self.a)*self.E_loglam - (b_hat - self.b)*self.E_lam )\n",
        "\n",
        "        E_5 = np.sum( (alpha_hat - self.alpha)*self.E_pi)\n",
        "        self.elbo = E_1+E_2 -E_3 -E_4 - E_5    \n",
        "        return self.elbo\n",
        "    \n",
        "    def itr_elbo(self,max_itr ):\n",
        "        E=[]\n",
        "        A=np.zeros((self.K,max_itr))\n",
        "        B=np.zeros((self.K,max_itr))\n",
        "        for i in range(max_itr):\n",
        "            elbo=self.Elbo()\n",
        "            self.a,self.b,self.alpha = self.Mstep()\n",
        "            self.elbo= self.Elbo()\n",
        "            E=np.append(E,self.elbo) \n",
        "            A[:,i]=self.a\n",
        "            B[:,i]=self.b\n",
        "            if np.abs(self.elbo - elbo )<0.01 :\n",
        "                print(\"Convergence !! n={}\".format(i+1))\n",
        "                break\n",
        "        Lam = A/B\n",
        "        lam = self.a / self.b\n",
        "\n",
        "        return lam, Lam, E\n",
        " "
      ],
      "execution_count": 0,
      "outputs": []
    },
    {
      "cell_type": "code",
      "metadata": {
        "id": "ArmWNKrmXllI",
        "colab_type": "code",
        "colab": {}
      },
      "source": [
        "K=2\n",
        "a=np.abs(np.random.randn(K))\n",
        "b = 10*np.abs(np.random.randn(K))\n",
        "alpha = np.abs(np.random.randn(K))\n",
        "cal = EM_like_VI(K=K, x=x, a=a, b=b, alpha=alpha)"
      ],
      "execution_count": 0,
      "outputs": []
    },
    {
      "cell_type": "code",
      "metadata": {
        "id": "Zk4XZPahY2ef",
        "colab_type": "code",
        "colab": {
          "base_uri": "https://localhost:8080/",
          "height": 52
        },
        "outputId": "2ac2bfe1-467e-4906-99c3-ee6c6b51e56e"
      },
      "source": [
        "lam,Lam, E = cal.itr_elbo( max_itr= 1000)"
      ],
      "execution_count": 160,
      "outputs": [
        {
          "output_type": "stream",
          "text": [
            "Convergence !! n=323\n"
          ],
          "name": "stdout"
        },
        {
          "output_type": "stream",
          "text": [
            "/usr/local/lib/python3.6/dist-packages/ipykernel_launcher.py:33: RuntimeWarning: invalid value encountered in true_divide\n"
          ],
          "name": "stderr"
        }
      ]
    },
    {
      "cell_type": "code",
      "metadata": {
        "id": "sH525TO5vL7H",
        "colab_type": "code",
        "outputId": "bfeade37-f31c-4419-9092-0fe70b2b4807",
        "colab": {
          "base_uri": "https://localhost:8080/",
          "height": 52
        }
      },
      "source": [
        "print(lam)\n",
        "print(cal.E_pi)"
      ],
      "execution_count": 161,
      "outputs": [
        {
          "output_type": "stream",
          "text": [
            "[14.97047597  3.05219385]\n",
            "[[0.29254975 0.70745025]]\n"
          ],
          "name": "stdout"
        }
      ]
    },
    {
      "cell_type": "markdown",
      "metadata": {
        "id": "BAfhBlS9620F",
        "colab_type": "text"
      },
      "source": [
        "初期値次第では、うまくいかないので、遊んでみると楽しいです。"
      ]
    },
    {
      "cell_type": "code",
      "metadata": {
        "id": "v5TaW_DZ6Jgc",
        "colab_type": "code",
        "outputId": "139dd638-680b-41ae-b72b-e2b0f5fba31b",
        "colab": {
          "base_uri": "https://localhost:8080/",
          "height": 282
        }
      },
      "source": [
        "plt.plot(E)"
      ],
      "execution_count": 163,
      "outputs": [
        {
          "output_type": "execute_result",
          "data": {
            "text/plain": [
              "[<matplotlib.lines.Line2D at 0x7f8e3f65c5f8>]"
            ]
          },
          "metadata": {
            "tags": []
          },
          "execution_count": 163
        },
        {
          "output_type": "display_data",
          "data": {
            "image/png": "[encoded data removed]",
            "text/plain": [
              "<Figure size 432x288 with 1 Axes>"
            ]
          },
          "metadata": {
            "tags": []
          }
        }
      ]
    },
    {
      "cell_type": "markdown",
      "metadata": {
        "id": "k4TYVGVn6_8e",
        "colab_type": "text"
      },
      "source": [
        "elboが収束しています"
      ]
    },
    {
      "cell_type": "markdown",
      "metadata": {
        "id": "L1xR_sGO3mTj",
        "colab_type": "text"
      },
      "source": [
        "# おまけ"
      ]
    },
    {
      "cell_type": "markdown",
      "metadata": {
        "id": "636PrpNq7Hke",
        "colab_type": "text"
      },
      "source": [
        "交通事故の死亡者をまとめた時系列データをフィッティングしてみます。"
      ]
    },
    {
      "cell_type": "code",
      "metadata": {
        "id": "OUBOE9n5E9y1",
        "colab_type": "code",
        "outputId": "dbb8d22e-d47e-4e46-c5d7-e18afe261191",
        "colab": {
          "base_uri": "https://localhost:8080/",
          "height": 197
        }
      },
      "source": [
        "X =pd.read_csv(\"USAccDeaths.csv\", index_col=0)\n",
        "X.head()"
      ],
      "execution_count": 0,
      "outputs": [
        {
          "output_type": "execute_result",
          "data": {
            "text/html": [
              "<div>\n",
              "<style scoped>\n",
              "    .dataframe tbody tr th:only-of-type {\n",
              "        vertical-align: middle;\n",
              "    }\n",
              "\n",
              "    .dataframe tbody tr th {\n",
              "        vertical-align: top;\n",
              "    }\n",
              "\n",
              "    .dataframe thead th {\n",
              "        text-align: right;\n",
              "    }\n",
              "</style>\n",
              "<table border=\"1\" class=\"dataframe\">\n",
              "  <thead>\n",
              "    <tr style=\"text-align: right;\">\n",
              "      <th></th>\n",
              "      <th>USAccDeaths</th>\n",
              "    </tr>\n",
              "  </thead>\n",
              "  <tbody>\n",
              "    <tr>\n",
              "      <th>1</th>\n",
              "      <td>9007</td>\n",
              "    </tr>\n",
              "    <tr>\n",
              "      <th>2</th>\n",
              "      <td>8106</td>\n",
              "    </tr>\n",
              "    <tr>\n",
              "      <th>3</th>\n",
              "      <td>8928</td>\n",
              "    </tr>\n",
              "    <tr>\n",
              "      <th>4</th>\n",
              "      <td>9137</td>\n",
              "    </tr>\n",
              "    <tr>\n",
              "      <th>5</th>\n",
              "      <td>10017</td>\n",
              "    </tr>\n",
              "  </tbody>\n",
              "</table>\n",
              "</div>"
            ],
            "text/plain": [
              "   USAccDeaths\n",
              "1         9007\n",
              "2         8106\n",
              "3         8928\n",
              "4         9137\n",
              "5        10017"
            ]
          },
          "metadata": {
            "tags": []
          },
          "execution_count": 5
        }
      ]
    },
    {
      "cell_type": "code",
      "metadata": {
        "id": "O3OQQKftFP28",
        "colab_type": "code",
        "outputId": "42047b49-5e8b-486a-8021-7cbd9b254e9d",
        "colab": {
          "base_uri": "https://localhost:8080/",
          "height": 282
        }
      },
      "source": [
        "plt.plot(X)"
      ],
      "execution_count": 0,
      "outputs": [
        {
          "output_type": "execute_result",
          "data": {
            "text/plain": [
              "[<matplotlib.lines.Line2D at 0x7f0f5057d400>]"
            ]
          },
          "metadata": {
            "tags": []
          },
          "execution_count": 4
        },
        {
          "output_type": "display_data",
          "data": {
            "image/png": "[encoded data removed]",
            "text/plain": [
              "<Figure size 432x288 with 1 Axes>"
            ]
          },
          "metadata": {
            "tags": []
          }
        }
      ]
    },
    {
      "cell_type": "code",
      "metadata": {
        "id": "OYUAH9pYFU-z",
        "colab_type": "code",
        "outputId": "0ee274ca-5586-4bb7-c299-b80abcedd872",
        "colab": {
          "base_uri": "https://localhost:8080/",
          "height": 316
        }
      },
      "source": [
        "X.hist()"
      ],
      "execution_count": 0,
      "outputs": [
        {
          "output_type": "execute_result",
          "data": {
            "text/plain": [
              "array([[<matplotlib.axes._subplots.AxesSubplot object at 0x7f0c39c0fd68>]],\n",
              "      dtype=object)"
            ]
          },
          "metadata": {
            "tags": []
          },
          "execution_count": 33
        },
        {
          "output_type": "display_data",
          "data": {
            "image/png": "[encoded data removed]",
            "text/plain": [
              "<Figure size 432x288 with 1 Axes>"
            ]
          },
          "metadata": {
            "tags": []
          }
        }
      ]
    },
    {
      "cell_type": "code",
      "metadata": {
        "id": "0-hRTHeIjVy5",
        "colab_type": "code",
        "colab": {}
      },
      "source": [
        "x=np.array(X[\"USAccDeaths\"])"
      ],
      "execution_count": 0,
      "outputs": []
    },
    {
      "cell_type": "code",
      "metadata": {
        "id": "bU5Z30N67WwN",
        "colab_type": "code",
        "colab": {}
      },
      "source": [
        "K=2\n",
        "a=np.abs(np.random.randn(K))\n",
        "b=10*np.abs(np.random.randn(K))\n",
        "alpha = np.abs(np.random.randn(K))\n",
        "cal = EM_like_VI(K=K, x=x, a=a, b=b, alpha=alpha)"
      ],
      "execution_count": 0,
      "outputs": []
    },
    {
      "cell_type": "code",
      "metadata": {
        "id": "CmzpDPjd4EPp",
        "colab_type": "code",
        "colab": {
          "base_uri": "https://localhost:8080/",
          "height": 87
        },
        "outputId": "e06a2419-c9c7-46b0-c2c5-130a7e3d3e1c"
      },
      "source": [
        "lam, Lam, E = cal.itr_elbo(max_itr=1000)\n",
        "print(lam)\n",
        "print(cal.E_pi)"
      ],
      "execution_count": 170,
      "outputs": [
        {
          "output_type": "stream",
          "text": [
            "Convergence !! n=16\n",
            "[5.18026932e-02 8.77428522e+03]\n",
            "[[4.82294338e-05 9.99951771e-01]]\n"
          ],
          "name": "stdout"
        },
        {
          "output_type": "stream",
          "text": [
            "/usr/local/lib/python3.6/dist-packages/ipykernel_launcher.py:33: RuntimeWarning: invalid value encountered in true_divide\n"
          ],
          "name": "stderr"
        }
      ]
    },
    {
      "cell_type": "code",
      "metadata": {
        "id": "pAoahXaS7hDW",
        "colab_type": "code",
        "colab": {
          "base_uri": "https://localhost:8080/",
          "height": 282
        },
        "outputId": "04c00595-3e37-4fee-a49d-9990f6d54150"
      },
      "source": [
        "plt.plot(E)"
      ],
      "execution_count": 173,
      "outputs": [
        {
          "output_type": "execute_result",
          "data": {
            "text/plain": [
              "[<matplotlib.lines.Line2D at 0x7f8e3f46de48>]"
            ]
          },
          "metadata": {
            "tags": []
          },
          "execution_count": 173
        },
        {
          "output_type": "display_data",
          "data": {
            "image/png": "[encoded data removed]",
            "text/plain": [
              "<Figure size 432x288 with 1 Axes>"
            ]
          },
          "metadata": {
            "tags": []
          }
        }
      ]
    },
    {
      "cell_type": "markdown",
      "metadata": {
        "id": "aNfKg96b7kA7",
        "colab_type": "text"
      },
      "source": [
        "見るからに駄目そうです。"
      ]
    },
    {
      "cell_type": "code",
      "metadata": {
        "id": "_zsFkL0z4dWS",
        "colab_type": "code",
        "colab": {
          "base_uri": "https://localhost:8080/",
          "height": 282
        },
        "outputId": "3bed7ae3-42e5-4653-dcd1-5e2969b58d22"
      },
      "source": [
        "sns.distplot(np.random.poisson(lam=lam[1], size=len(x)), label=\"predict\")　\n",
        "sns.distplot(x, label=\"original\")\n",
        "plt.legend()"
      ],
      "execution_count": 175,
      "outputs": [
        {
          "output_type": "execute_result",
          "data": {
            "text/plain": [
              "<matplotlib.legend.Legend at 0x7f8e3f4cf1d0>"
            ]
          },
          "metadata": {
            "tags": []
          },
          "execution_count": 175
        },
        {
          "output_type": "display_data",
          "data": {
            "image/png": "[encoded data removed]",
            "text/plain": [
              "<Figure size 432x288 with 1 Axes>"
            ]
          },
          "metadata": {
            "tags": []
          }
        }
      ]
    },
    {
      "cell_type": "markdown",
      "metadata": {
        "id": "qcnDrJNH4urP",
        "colab_type": "text"
      },
      "source": [
        "ポアソン分布は、基本的にとがっているので全然うまくいきません。上手くいかない時も分かって良い感じですね。\n",
        "正規分布でフィッティングしてみます。"
      ]
    },
    {
      "cell_type": "markdown",
      "metadata": {
        "id": "V5aUdAQCLqVe",
        "colab_type": "text"
      },
      "source": [
        "# 正規混合モデル\n"
      ]
    },
    {
      "cell_type": "code",
      "metadata": {
        "id": "zLQxXs8cUt3F",
        "colab_type": "code",
        "colab": {}
      },
      "source": [
        "x=np.array(X[\"USAccDeaths\"]).reshape(-1,1)"
      ],
      "execution_count": 0,
      "outputs": []
    },
    {
      "cell_type": "code",
      "metadata": {
        "id": "A5mMYmFMFvCN",
        "colab_type": "code",
        "colab": {}
      },
      "source": [
        "from sklearn.mixture import GaussianMixture\n",
        "gm = GaussianMixture(n_components =2).fit(x)"
      ],
      "execution_count": 0,
      "outputs": []
    },
    {
      "cell_type": "code",
      "metadata": {
        "id": "YMghgT81VRRu",
        "colab_type": "code",
        "outputId": "02648a41-addf-4e98-d621-342f694ea47f",
        "colab": {
          "base_uri": "https://localhost:8080/",
          "height": 34
        }
      },
      "source": [
        "gm.weights_"
      ],
      "execution_count": 0,
      "outputs": [
        {
          "output_type": "execute_result",
          "data": {
            "text/plain": [
              "array([0.48020702, 0.51979298])"
            ]
          },
          "metadata": {
            "tags": []
          },
          "execution_count": 31
        }
      ]
    },
    {
      "cell_type": "code",
      "metadata": {
        "id": "evFaA4VdVTyu",
        "colab_type": "code",
        "outputId": "d8d00433-bda6-46d2-b300-09d7235afb13",
        "colab": {
          "base_uri": "https://localhost:8080/",
          "height": 52
        }
      },
      "source": [
        "gm.means_"
      ],
      "execution_count": 0,
      "outputs": [
        {
          "output_type": "execute_result",
          "data": {
            "text/plain": [
              "array([[9436.04569484],\n",
              "       [8190.83066749]])"
            ]
          },
          "metadata": {
            "tags": []
          },
          "execution_count": 32
        }
      ]
    },
    {
      "cell_type": "code",
      "metadata": {
        "id": "d9kaa_amKsBz",
        "colab_type": "code",
        "colab": {}
      },
      "source": [
        "labels= gm.predict(X)"
      ],
      "execution_count": 0,
      "outputs": []
    },
    {
      "cell_type": "code",
      "metadata": {
        "id": "YavQ2AHnWww5",
        "colab_type": "code",
        "colab": {}
      },
      "source": [
        "colors =[\"r\", \"b\"]\n",
        "color=[]\n",
        "for label in labels:\n",
        "    color.append(colors[label])\n",
        "X[\"color\"]=color"
      ],
      "execution_count": 0,
      "outputs": []
    },
    {
      "cell_type": "code",
      "metadata": {
        "id": "NiO4r_LUVdVV",
        "colab_type": "code",
        "outputId": "6dfe93a7-1025-452a-fd22-b38fb9342c19",
        "colab": {
          "base_uri": "https://localhost:8080/",
          "height": 282
        }
      },
      "source": [
        "plt.scatter(X.index, X[\"USAccDeaths\"], c=X[\"color\"])"
      ],
      "execution_count": 0,
      "outputs": [
        {
          "output_type": "execute_result",
          "data": {
            "text/plain": [
              "<matplotlib.collections.PathCollection at 0x7f0f43454f98>"
            ]
          },
          "metadata": {
            "tags": []
          },
          "execution_count": 52
        },
        {
          "output_type": "display_data",
          "data": {
            "image/png": "[encoded data removed]",
            "text/plain": [
              "<Figure size 432x288 with 1 Axes>"
            ]
          },
          "metadata": {
            "tags": []
          }
        }
      ]
    },
    {
      "cell_type": "markdown",
      "metadata": {
        "id": "vlL-XuUb5MLA",
        "colab_type": "text"
      },
      "source": [
        "数が増えたときと、減った時で二つに分けれています。"
      ]
    },
    {
      "cell_type": "code",
      "metadata": {
        "id": "mv4ndgUSXmZD",
        "colab_type": "code",
        "outputId": "7d9fb624-033f-4857-d416-7731594f0412",
        "colab": {
          "base_uri": "https://localhost:8080/",
          "height": 282
        }
      },
      "source": [
        "pred = gm.sample(n_samples=len(X))\n",
        "sns.distplot(pred[0], kde=False , label=\"prediction\")\n",
        "sns.distplot(X, kde=False, label=\"original\")\n",
        "plt.legend()"
      ],
      "execution_count": 0,
      "outputs": [
        {
          "output_type": "execute_result",
          "data": {
            "text/plain": [
              "<matplotlib.legend.Legend at 0x7f0c346c5f98>"
            ]
          },
          "metadata": {
            "tags": []
          },
          "execution_count": 81
        },
        {
          "output_type": "display_data",
          "data": {
            "image/png": "[encoded data removed]",
            "text/plain": [
              "<Figure size 432x288 with 1 Axes>"
            ]
          },
          "metadata": {
            "tags": []
          }
        }
      ]
    },
    {
      "cell_type": "markdown",
      "metadata": {
        "id": "VJdlDp-F4YA-",
        "colab_type": "text"
      },
      "source": [
        "ポアソン混合分布よりはましです。"
      ]
    }
  ]
}
