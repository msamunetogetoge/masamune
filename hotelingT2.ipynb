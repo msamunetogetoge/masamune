{
  "nbformat": 4,
  "nbformat_minor": 0,
  "metadata": {
    "colab": {
      "name": "hotelingT2.ipynb",
      "provenance": [],
      "collapsed_sections": [],
      "include_colab_link": true
    },
    "kernelspec": {
      "name": "python3",
      "display_name": "Python 3"
    }
  },
  "cells": [
    {
      "cell_type": "markdown",
      "metadata": {
        "id": "view-in-github",
        "colab_type": "text"
      },
      "source": [
        "<a href=\"https://colab.research.google.com/github/msamunetogetoge/masamune/blob/master/hotelingT2.ipynb\" target=\"_parent\"><img src=\"https://colab.research.google.com/assets/colab-badge.svg\" alt=\"Open In Colab\"/></a>"
      ]
    },
    {
      "cell_type": "markdown",
      "metadata": {
        "id": "6oBi422PcW52",
        "colab_type": "text"
      },
      "source": [
        "# ホテリング理論(1次元)"
      ]
    },
    {
      "cell_type": "code",
      "metadata": {
        "id": "6UZyb8_OPy1v",
        "colab_type": "code",
        "colab": {}
      },
      "source": [
        "import numpy as np\n",
        "import seaborn as sns\n",
        "import matplotlib.pyplot as plt\n",
        "sns.set()\n",
        "import pandas as pd"
      ],
      "execution_count": 0,
      "outputs": []
    },
    {
      "cell_type": "code",
      "metadata": {
        "id": "fpgJb0OPQm1H",
        "colab_type": "code",
        "outputId": "26607015-a19d-4aab-de67-29b0bcbdbc30",
        "colab": {
          "base_uri": "https://localhost:8080/",
          "height": 197
        }
      },
      "source": [
        "X=pd.read_csv(\"Davis.csv\")\n",
        "X.head()"
      ],
      "execution_count": 2,
      "outputs": [
        {
          "output_type": "execute_result",
          "data": {
            "text/html": [
              "<div>\n",
              "<style scoped>\n",
              "    .dataframe tbody tr th:only-of-type {\n",
              "        vertical-align: middle;\n",
              "    }\n",
              "\n",
              "    .dataframe tbody tr th {\n",
              "        vertical-align: top;\n",
              "    }\n",
              "\n",
              "    .dataframe thead th {\n",
              "        text-align: right;\n",
              "    }\n",
              "</style>\n",
              "<table border=\"1\" class=\"dataframe\">\n",
              "  <thead>\n",
              "    <tr style=\"text-align: right;\">\n",
              "      <th></th>\n",
              "      <th>sex</th>\n",
              "      <th>weight</th>\n",
              "      <th>height</th>\n",
              "      <th>repwt</th>\n",
              "      <th>repht</th>\n",
              "    </tr>\n",
              "  </thead>\n",
              "  <tbody>\n",
              "    <tr>\n",
              "      <th>0</th>\n",
              "      <td>M</td>\n",
              "      <td>77</td>\n",
              "      <td>182</td>\n",
              "      <td>77.0</td>\n",
              "      <td>180.0</td>\n",
              "    </tr>\n",
              "    <tr>\n",
              "      <th>1</th>\n",
              "      <td>F</td>\n",
              "      <td>58</td>\n",
              "      <td>161</td>\n",
              "      <td>51.0</td>\n",
              "      <td>159.0</td>\n",
              "    </tr>\n",
              "    <tr>\n",
              "      <th>2</th>\n",
              "      <td>F</td>\n",
              "      <td>53</td>\n",
              "      <td>161</td>\n",
              "      <td>54.0</td>\n",
              "      <td>158.0</td>\n",
              "    </tr>\n",
              "    <tr>\n",
              "      <th>3</th>\n",
              "      <td>M</td>\n",
              "      <td>68</td>\n",
              "      <td>177</td>\n",
              "      <td>70.0</td>\n",
              "      <td>175.0</td>\n",
              "    </tr>\n",
              "    <tr>\n",
              "      <th>4</th>\n",
              "      <td>F</td>\n",
              "      <td>59</td>\n",
              "      <td>157</td>\n",
              "      <td>59.0</td>\n",
              "      <td>155.0</td>\n",
              "    </tr>\n",
              "  </tbody>\n",
              "</table>\n",
              "</div>"
            ],
            "text/plain": [
              "  sex  weight  height  repwt  repht\n",
              "0   M      77     182   77.0  180.0\n",
              "1   F      58     161   51.0  159.0\n",
              "2   F      53     161   54.0  158.0\n",
              "3   M      68     177   70.0  175.0\n",
              "4   F      59     157   59.0  155.0"
            ]
          },
          "metadata": {
            "tags": []
          },
          "execution_count": 2
        }
      ]
    },
    {
      "cell_type": "code",
      "metadata": {
        "id": "rqC719BZRZjD",
        "colab_type": "code",
        "outputId": "440ae81c-d646-42b4-8a38-f86f958b40be",
        "colab": {
          "base_uri": "https://localhost:8080/",
          "height": 284
        }
      },
      "source": [
        "x=X[\"weight\"]\n",
        "x.hist()\n",
        "plt.title(\"Davis Weight\")\n",
        "plt.savefig(\"davis.png\")"
      ],
      "execution_count": 3,
      "outputs": [
        {
          "output_type": "display_data",
          "data": {
            "image/png": "[encoded data removed]",
            "text/plain": [
              "<Figure size 432x288 with 1 Axes>"
            ]
          },
          "metadata": {
            "tags": []
          }
        }
      ]
    },
    {
      "cell_type": "code",
      "metadata": {
        "id": "_PNGnr75RfSv",
        "colab_type": "code",
        "colab": {}
      },
      "source": [
        "mu = np.mean(x)\n",
        "N=len(x)\n",
        "sig =(np.sum( (x-mu)**2 ))/N\n",
        "sig = np.sqrt(sig)"
      ],
      "execution_count": 0,
      "outputs": []
    },
    {
      "cell_type": "code",
      "metadata": {
        "id": "vR0qBVHEWu8d",
        "colab_type": "code",
        "colab": {
          "base_uri": "https://localhost:8080/",
          "height": 34
        },
        "outputId": "514d707e-e0fa-4a2c-bc9f-a6644f974649"
      },
      "source": [
        "import scipy.stats as stats\n",
        "a_th =stats.chi2.ppf(q=0.95, df=1)\n",
        "print(a_th)"
      ],
      "execution_count": 5,
      "outputs": [
        {
          "output_type": "stream",
          "text": [
            "3.841458820694124\n"
          ],
          "name": "stdout"
        }
      ]
    },
    {
      "cell_type": "code",
      "metadata": {
        "id": "lK8cxL2MSEUc",
        "colab_type": "code",
        "outputId": "b4442b7c-879b-4109-d34c-635d00cb8fb4",
        "colab": {
          "base_uri": "https://localhost:8080/",
          "height": 284
        }
      },
      "source": [
        "a = ( (x- mu)/sig )**2\n",
        "plt.plot(a)\n",
        "plt.plot(a_th*np.ones(len(a)), c=\"r\")\n",
        "plt.title(\"Anomaly Of Dates\")\n",
        "plt.savefig(\"anomaly_davis.png\")"
      ],
      "execution_count": 6,
      "outputs": [
        {
          "output_type": "display_data",
          "data": {
            "image/png": "[encoded data removed]",
            "text/plain": [
              "<Figure size 432x288 with 1 Axes>"
            ]
          },
          "metadata": {
            "tags": []
          }
        }
      ]
    },
    {
      "cell_type": "code",
      "metadata": {
        "id": "q86fDDvZSTbW",
        "colab_type": "code",
        "colab": {}
      },
      "source": [
        "anomaly = x[a>a_th].index"
      ],
      "execution_count": 0,
      "outputs": []
    },
    {
      "cell_type": "code",
      "metadata": {
        "id": "p0IumgHZWC_p",
        "colab_type": "code",
        "outputId": "6ec85649-0ba7-45d9-9f18-212f1de35f07",
        "colab": {
          "base_uri": "https://localhost:8080/",
          "height": 287
        }
      },
      "source": [
        "X.loc[anomaly]"
      ],
      "execution_count": 17,
      "outputs": [
        {
          "output_type": "execute_result",
          "data": {
            "text/html": [
              "<div>\n",
              "<style scoped>\n",
              "    .dataframe tbody tr th:only-of-type {\n",
              "        vertical-align: middle;\n",
              "    }\n",
              "\n",
              "    .dataframe tbody tr th {\n",
              "        vertical-align: top;\n",
              "    }\n",
              "\n",
              "    .dataframe thead th {\n",
              "        text-align: right;\n",
              "    }\n",
              "</style>\n",
              "<table border=\"1\" class=\"dataframe\">\n",
              "  <thead>\n",
              "    <tr style=\"text-align: right;\">\n",
              "      <th></th>\n",
              "      <th>sex</th>\n",
              "      <th>weight</th>\n",
              "      <th>height</th>\n",
              "      <th>repwt</th>\n",
              "      <th>repht</th>\n",
              "    </tr>\n",
              "  </thead>\n",
              "  <tbody>\n",
              "    <tr>\n",
              "      <th>11</th>\n",
              "      <td>F</td>\n",
              "      <td>166</td>\n",
              "      <td>57</td>\n",
              "      <td>56.0</td>\n",
              "      <td>163.0</td>\n",
              "    </tr>\n",
              "    <tr>\n",
              "      <th>20</th>\n",
              "      <td>M</td>\n",
              "      <td>119</td>\n",
              "      <td>180</td>\n",
              "      <td>124.0</td>\n",
              "      <td>178.0</td>\n",
              "    </tr>\n",
              "    <tr>\n",
              "      <th>29</th>\n",
              "      <td>M</td>\n",
              "      <td>101</td>\n",
              "      <td>183</td>\n",
              "      <td>100.0</td>\n",
              "      <td>180.0</td>\n",
              "    </tr>\n",
              "    <tr>\n",
              "      <th>53</th>\n",
              "      <td>M</td>\n",
              "      <td>102</td>\n",
              "      <td>185</td>\n",
              "      <td>107.0</td>\n",
              "      <td>185.0</td>\n",
              "    </tr>\n",
              "    <tr>\n",
              "      <th>64</th>\n",
              "      <td>M</td>\n",
              "      <td>97</td>\n",
              "      <td>189</td>\n",
              "      <td>98.0</td>\n",
              "      <td>185.0</td>\n",
              "    </tr>\n",
              "    <tr>\n",
              "      <th>96</th>\n",
              "      <td>M</td>\n",
              "      <td>103</td>\n",
              "      <td>185</td>\n",
              "      <td>101.0</td>\n",
              "      <td>182.0</td>\n",
              "    </tr>\n",
              "    <tr>\n",
              "      <th>117</th>\n",
              "      <td>M</td>\n",
              "      <td>96</td>\n",
              "      <td>184</td>\n",
              "      <td>94.0</td>\n",
              "      <td>183.0</td>\n",
              "    </tr>\n",
              "    <tr>\n",
              "      <th>168</th>\n",
              "      <td>M</td>\n",
              "      <td>96</td>\n",
              "      <td>191</td>\n",
              "      <td>95.0</td>\n",
              "      <td>188.0</td>\n",
              "    </tr>\n",
              "  </tbody>\n",
              "</table>\n",
              "</div>"
            ],
            "text/plain": [
              "    sex  weight  height  repwt  repht\n",
              "11    F     166      57   56.0  163.0\n",
              "20    M     119     180  124.0  178.0\n",
              "29    M     101     183  100.0  180.0\n",
              "53    M     102     185  107.0  185.0\n",
              "64    M      97     189   98.0  185.0\n",
              "96    M     103     185  101.0  182.0\n",
              "117   M      96     184   94.0  183.0\n",
              "168   M      96     191   95.0  188.0"
            ]
          },
          "metadata": {
            "tags": []
          },
          "execution_count": 17
        }
      ]
    },
    {
      "cell_type": "code",
      "metadata": {
        "id": "1j6Fs4k4XZ-Z",
        "colab_type": "code",
        "outputId": "692c3466-bf4b-49a1-a573-023603d3b2a4",
        "colab": {
          "base_uri": "https://localhost:8080/",
          "height": 285
        }
      },
      "source": [
        "x.hist()"
      ],
      "execution_count": 8,
      "outputs": [
        {
          "output_type": "execute_result",
          "data": {
            "text/plain": [
              "<matplotlib.axes._subplots.AxesSubplot at 0x7f8498cdc6d8>"
            ]
          },
          "metadata": {
            "tags": []
          },
          "execution_count": 8
        },
        {
          "output_type": "display_data",
          "data": {
            "image/png": "[encoded data removed]",
            "text/plain": [
              "<Figure size 432x288 with 1 Axes>"
            ]
          },
          "metadata": {
            "tags": []
          }
        }
      ]
    },
    {
      "cell_type": "code",
      "metadata": {
        "id": "95CQygc9Yzia",
        "colab_type": "code",
        "colab": {
          "base_uri": "https://localhost:8080/",
          "height": 284
        },
        "outputId": "fc0b4df5-5084-4753-d7e2-bc83d90fae11"
      },
      "source": [
        "X = X.drop(index= anomaly)\n",
        "x = X[\"weight\"]\n",
        "x.hist()\n",
        "plt.title(\"Remove Anomaly Datas\")\n",
        "plt.savefig(\"Davis_hist2.png\")"
      ],
      "execution_count": 9,
      "outputs": [
        {
          "output_type": "display_data",
          "data": {
            "image/png": "[encoded data removed]",
            "text/plain": [
              "<Figure size 432x288 with 1 Axes>"
            ]
          },
          "metadata": {
            "tags": []
          }
        }
      ]
    },
    {
      "cell_type": "code",
      "metadata": {
        "colab_type": "code",
        "id": "O5M2DYYm3Xkt",
        "colab": {}
      },
      "source": [
        "mu = np.mean(x)\n",
        "N=len(x)\n",
        "sig =(np.sum( (x-mu)**2 ))/N\n",
        "sig = np.sqrt(sig)"
      ],
      "execution_count": 0,
      "outputs": []
    },
    {
      "cell_type": "code",
      "metadata": {
        "colab_type": "code",
        "outputId": "9d765210-58d2-41a7-bc59-49eaadba677d",
        "id": "nHCJsUoV3Xky",
        "colab": {
          "base_uri": "https://localhost:8080/",
          "height": 34
        }
      },
      "source": [
        "import scipy.stats as stats\n",
        "a_th =stats.chi2.ppf(q=0.95, df=1)\n",
        "print(a_th)"
      ],
      "execution_count": 11,
      "outputs": [
        {
          "output_type": "stream",
          "text": [
            "3.841458820694124\n"
          ],
          "name": "stdout"
        }
      ]
    },
    {
      "cell_type": "code",
      "metadata": {
        "colab_type": "code",
        "outputId": "c15c69db-e079-4c64-9c96-dee96315a58a",
        "id": "I_HZEcs03Xk0",
        "colab": {
          "base_uri": "https://localhost:8080/",
          "height": 302
        }
      },
      "source": [
        "a = ( (x- mu)/sig )**2\n",
        "plt.plot(a)\n",
        "plt.plot(a_th*np.ones(len(a)), c=\"r\")\n",
        "plt.title(\"Anomaly Of Dates\")"
      ],
      "execution_count": 12,
      "outputs": [
        {
          "output_type": "execute_result",
          "data": {
            "text/plain": [
              "Text(0.5, 1.0, 'Anomaly Of Dates')"
            ]
          },
          "metadata": {
            "tags": []
          },
          "execution_count": 12
        },
        {
          "output_type": "display_data",
          "data": {
            "image/png": "[encoded data removed]",
            "text/plain": [
              "<Figure size 432x288 with 1 Axes>"
            ]
          },
          "metadata": {
            "tags": []
          }
        }
      ]
    },
    {
      "cell_type": "code",
      "metadata": {
        "colab_type": "code",
        "id": "hZbNc3BC3pD4",
        "colab": {}
      },
      "source": [
        "anomaly = x[a>a_th].index"
      ],
      "execution_count": 0,
      "outputs": []
    },
    {
      "cell_type": "code",
      "metadata": {
        "colab_type": "code",
        "outputId": "907e89a9-1914-41d1-a4f8-6294a2cd3e84",
        "id": "JqJzUtzu3pD6",
        "colab": {
          "base_uri": "https://localhost:8080/",
          "height": 347
        }
      },
      "source": [
        "X.loc[anomaly]"
      ],
      "execution_count": 14,
      "outputs": [
        {
          "output_type": "execute_result",
          "data": {
            "text/html": [
              "<div>\n",
              "<style scoped>\n",
              "    .dataframe tbody tr th:only-of-type {\n",
              "        vertical-align: middle;\n",
              "    }\n",
              "\n",
              "    .dataframe tbody tr th {\n",
              "        vertical-align: top;\n",
              "    }\n",
              "\n",
              "    .dataframe thead th {\n",
              "        text-align: right;\n",
              "    }\n",
              "</style>\n",
              "<table border=\"1\" class=\"dataframe\">\n",
              "  <thead>\n",
              "    <tr style=\"text-align: right;\">\n",
              "      <th></th>\n",
              "      <th>sex</th>\n",
              "      <th>weight</th>\n",
              "      <th>height</th>\n",
              "      <th>repwt</th>\n",
              "      <th>repht</th>\n",
              "    </tr>\n",
              "  </thead>\n",
              "  <tbody>\n",
              "    <tr>\n",
              "      <th>16</th>\n",
              "      <td>M</td>\n",
              "      <td>92</td>\n",
              "      <td>187</td>\n",
              "      <td>101.0</td>\n",
              "      <td>185.0</td>\n",
              "    </tr>\n",
              "    <tr>\n",
              "      <th>28</th>\n",
              "      <td>F</td>\n",
              "      <td>39</td>\n",
              "      <td>157</td>\n",
              "      <td>41.0</td>\n",
              "      <td>153.0</td>\n",
              "    </tr>\n",
              "    <tr>\n",
              "      <th>38</th>\n",
              "      <td>M</td>\n",
              "      <td>88</td>\n",
              "      <td>178</td>\n",
              "      <td>86.0</td>\n",
              "      <td>175.0</td>\n",
              "    </tr>\n",
              "    <tr>\n",
              "      <th>94</th>\n",
              "      <td>M</td>\n",
              "      <td>88</td>\n",
              "      <td>189</td>\n",
              "      <td>87.0</td>\n",
              "      <td>185.0</td>\n",
              "    </tr>\n",
              "    <tr>\n",
              "      <th>131</th>\n",
              "      <td>M</td>\n",
              "      <td>87</td>\n",
              "      <td>185</td>\n",
              "      <td>89.0</td>\n",
              "      <td>185.0</td>\n",
              "    </tr>\n",
              "    <tr>\n",
              "      <th>138</th>\n",
              "      <td>M</td>\n",
              "      <td>90</td>\n",
              "      <td>188</td>\n",
              "      <td>91.0</td>\n",
              "      <td>185.0</td>\n",
              "    </tr>\n",
              "    <tr>\n",
              "      <th>149</th>\n",
              "      <td>M</td>\n",
              "      <td>88</td>\n",
              "      <td>184</td>\n",
              "      <td>86.0</td>\n",
              "      <td>183.0</td>\n",
              "    </tr>\n",
              "    <tr>\n",
              "      <th>190</th>\n",
              "      <td>M</td>\n",
              "      <td>88</td>\n",
              "      <td>185</td>\n",
              "      <td>93.0</td>\n",
              "      <td>188.0</td>\n",
              "    </tr>\n",
              "    <tr>\n",
              "      <th>191</th>\n",
              "      <td>M</td>\n",
              "      <td>89</td>\n",
              "      <td>173</td>\n",
              "      <td>86.0</td>\n",
              "      <td>173.0</td>\n",
              "    </tr>\n",
              "    <tr>\n",
              "      <th>198</th>\n",
              "      <td>M</td>\n",
              "      <td>90</td>\n",
              "      <td>181</td>\n",
              "      <td>91.0</td>\n",
              "      <td>178.0</td>\n",
              "    </tr>\n",
              "  </tbody>\n",
              "</table>\n",
              "</div>"
            ],
            "text/plain": [
              "    sex  weight  height  repwt  repht\n",
              "16    M      92     187  101.0  185.0\n",
              "28    F      39     157   41.0  153.0\n",
              "38    M      88     178   86.0  175.0\n",
              "94    M      88     189   87.0  185.0\n",
              "131   M      87     185   89.0  185.0\n",
              "138   M      90     188   91.0  185.0\n",
              "149   M      88     184   86.0  183.0\n",
              "190   M      88     185   93.0  188.0\n",
              "191   M      89     173   86.0  173.0\n",
              "198   M      90     181   91.0  178.0"
            ]
          },
          "metadata": {
            "tags": []
          },
          "execution_count": 14
        }
      ]
    },
    {
      "cell_type": "markdown",
      "metadata": {
        "id": "NSusU12ncepg",
        "colab_type": "text"
      },
      "source": [
        "#ホテリング理論(多次元)"
      ]
    },
    {
      "cell_type": "code",
      "metadata": {
        "id": "N2PWjSO22W1r",
        "colab_type": "code",
        "colab": {
          "base_uri": "https://localhost:8080/",
          "height": 301
        },
        "outputId": "2ef9f91d-498b-4833-bdf8-066be92d60a8"
      },
      "source": [
        "X=pd.read_csv(\"Davis.csv\")\n",
        "x= X[[\"weight\", \"height\"]]\n",
        "plt.scatter(x[\"weight\"], x[\"height\"])\n",
        "plt.title(\"Weight vs Height\")\n",
        "plt.xlabel(\"weight\")\n",
        "plt.ylabel(\"height\")\n",
        "plt.savefig(\"weight_vs_height.png\")"
      ],
      "execution_count": 16,
      "outputs": [
        {
          "output_type": "display_data",
          "data": {
            "image/png": "[encoded data removed]",
            "text/plain": [
              "<Figure size 432x288 with 1 Axes>"
            ]
          },
          "metadata": {
            "tags": []
          }
        }
      ]
    },
    {
      "cell_type": "code",
      "metadata": {
        "id": "bB9uq4tW8L5y",
        "colab_type": "code",
        "colab": {}
      },
      "source": [
        "mu = np.mean(x)\n",
        "N=len(x)\n",
        "M=len(x.columns)\n",
        "Sig = np.dot((x-mu).T,(x-mu) )/N"
      ],
      "execution_count": 0,
      "outputs": []
    },
    {
      "cell_type": "code",
      "metadata": {
        "id": "arJXKwI8dwZa",
        "colab_type": "code",
        "colab": {
          "base_uri": "https://localhost:8080/",
          "height": 34
        },
        "outputId": "9d342c58-edee-434f-daa2-d5f979149566"
      },
      "source": [
        "import scipy.stats as stats\n",
        "a_th =stats.chi2.ppf(q=0.95, df=M)\n",
        "print(a_th)"
      ],
      "execution_count": 18,
      "outputs": [
        {
          "output_type": "stream",
          "text": [
            "5.991464547107979\n"
          ],
          "name": "stdout"
        }
      ]
    },
    {
      "cell_type": "code",
      "metadata": {
        "id": "IQfB0xpo8eLj",
        "colab_type": "code",
        "colab": {
          "base_uri": "https://localhost:8080/",
          "height": 34
        },
        "outputId": "cb0457cc-28bf-4dd2-e63b-1df769a87718"
      },
      "source": [
        "a = np.dot( np.dot((x-mu), np.linalg.inv(Sig)), (x-mu).T ).diagonal()\n",
        "a.shape"
      ],
      "execution_count": 19,
      "outputs": [
        {
          "output_type": "execute_result",
          "data": {
            "text/plain": [
              "(200,)"
            ]
          },
          "metadata": {
            "tags": []
          },
          "execution_count": 19
        }
      ]
    },
    {
      "cell_type": "code",
      "metadata": {
        "id": "61f8h6Jm8mmi",
        "colab_type": "code",
        "colab": {
          "base_uri": "https://localhost:8080/",
          "height": 301
        },
        "outputId": "b5249833-d2a7-4331-8698-2be5c85dbda6"
      },
      "source": [
        "plt.plot(a)\n",
        "plt.plot(a_th*np.ones(len(x)),c=\"r\")\n",
        "plt.title(\"Anomaly Score of 2-features Data\")\n",
        "plt.xlabel(\"Data Number\")\n",
        "plt.ylabel(\"Anomaly\")\n",
        "plt.savefig(\"2-features_anomaly.png\")"
      ],
      "execution_count": 20,
      "outputs": [
        {
          "output_type": "display_data",
          "data": {
            "image/png": "[encoded data removed]",
            "text/plain": [
              "<Figure size 432x288 with 1 Axes>"
            ]
          },
          "metadata": {
            "tags": []
          }
        }
      ]
    },
    {
      "cell_type": "code",
      "metadata": {
        "colab_type": "code",
        "id": "MGqVfS-EBctQ",
        "colab": {}
      },
      "source": [
        "anomaly = x[a>a_th].index"
      ],
      "execution_count": 0,
      "outputs": []
    },
    {
      "cell_type": "code",
      "metadata": {
        "colab_type": "code",
        "outputId": "69bccd06-c520-457a-ef5a-2d423feb36f3",
        "id": "Tc7xpIvaBctU",
        "colab": {
          "base_uri": "https://localhost:8080/",
          "height": 167
        }
      },
      "source": [
        "X.loc[anomaly]"
      ],
      "execution_count": 21,
      "outputs": [
        {
          "output_type": "execute_result",
          "data": {
            "text/html": [
              "<div>\n",
              "<style scoped>\n",
              "    .dataframe tbody tr th:only-of-type {\n",
              "        vertical-align: middle;\n",
              "    }\n",
              "\n",
              "    .dataframe tbody tr th {\n",
              "        vertical-align: top;\n",
              "    }\n",
              "\n",
              "    .dataframe thead th {\n",
              "        text-align: right;\n",
              "    }\n",
              "</style>\n",
              "<table border=\"1\" class=\"dataframe\">\n",
              "  <thead>\n",
              "    <tr style=\"text-align: right;\">\n",
              "      <th></th>\n",
              "      <th>sex</th>\n",
              "      <th>weight</th>\n",
              "      <th>height</th>\n",
              "      <th>repwt</th>\n",
              "      <th>repht</th>\n",
              "    </tr>\n",
              "  </thead>\n",
              "  <tbody>\n",
              "    <tr>\n",
              "      <th>11</th>\n",
              "      <td>F</td>\n",
              "      <td>166</td>\n",
              "      <td>57</td>\n",
              "      <td>56.0</td>\n",
              "      <td>163.0</td>\n",
              "    </tr>\n",
              "    <tr>\n",
              "      <th>20</th>\n",
              "      <td>M</td>\n",
              "      <td>119</td>\n",
              "      <td>180</td>\n",
              "      <td>124.0</td>\n",
              "      <td>178.0</td>\n",
              "    </tr>\n",
              "    <tr>\n",
              "      <th>53</th>\n",
              "      <td>M</td>\n",
              "      <td>102</td>\n",
              "      <td>185</td>\n",
              "      <td>107.0</td>\n",
              "      <td>185.0</td>\n",
              "    </tr>\n",
              "    <tr>\n",
              "      <th>96</th>\n",
              "      <td>M</td>\n",
              "      <td>103</td>\n",
              "      <td>185</td>\n",
              "      <td>101.0</td>\n",
              "      <td>182.0</td>\n",
              "    </tr>\n",
              "  </tbody>\n",
              "</table>\n",
              "</div>"
            ],
            "text/plain": [
              "   sex  weight  height  repwt  repht\n",
              "11   F     166      57   56.0  163.0\n",
              "20   M     119     180  124.0  178.0\n",
              "53   M     102     185  107.0  185.0\n",
              "96   M     103     185  101.0  182.0"
            ]
          },
          "metadata": {
            "tags": []
          },
          "execution_count": 21
        }
      ]
    }
  ]
}